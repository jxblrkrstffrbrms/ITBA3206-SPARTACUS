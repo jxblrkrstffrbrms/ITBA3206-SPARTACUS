{
  "nbformat": 4,
  "nbformat_minor": 0,
  "metadata": {
    "colab": {
      "name": "Reaching New Heights : Boosting Vaccinations for a Safer Community",
      "provenance": [],
      "include_colab_link": true
    },
    "kernelspec": {
      "name": "python3",
      "display_name": "Python 3"
    },
    "language_info": {
      "name": "python"
    }
  },
  "cells": [
    {
      "cell_type": "markdown",
      "metadata": {
        "id": "view-in-github",
        "colab_type": "text"
      },
      "source": [
        "<a href=\"https://colab.research.google.com/github/jxblrkrstffrbrms/ITBA3206-SPARTACUS/blob/main/Reaching_New_Heights_Boosting_Vaccinations_for_a_Safer_Community.ipynb\" target=\"_parent\"><img src=\"https://colab.research.google.com/assets/colab-badge.svg\" alt=\"Open In Colab\"/></a>"
      ]
    },
    {
      "cell_type": "markdown",
      "source": [
        "**Reaching New Heights : Boosting Vaccinations for a Safer Community**\n",
        "\n",
        "---\n",
        "\n"
      ],
      "metadata": {
        "id": "0PdC5Q-draHf"
      }
    },
    {
      "cell_type": "markdown",
      "source": [
        "The goal of this analysis is to examine the current COVID-19 data in the Philippines as well as the vaccination status in our country. A dataset from Our World in Data will be used to obtain all of the information required to analyze the current trend of daily COVID-19 cases as well as the vaccination rollout in our country. The data will be used to encourage some Filipinos who are still afraid of getting vaccinated to get vaccinated, as well as to provide an analysis of how getting vaccinated will help to reduce overall cases in the country."
      ],
      "metadata": {
        "id": "o6AmBs7GrovE"
      }
    },
    {
      "cell_type": "markdown",
      "source": [
        "This notebook contains three parts.\n",
        "\n",
        "**Part 1 - Importing Necessary Libraries and Dataset**\n",
        "\n",
        "**Part 2 - Data Cleaning**\n",
        "\n",
        "**Part 3 - Visualizations**"
      ],
      "metadata": {
        "id": "Zi9C_qN_Hzwo"
      }
    },
    {
      "cell_type": "markdown",
      "source": [
        "# PART 1 : IMPORTING NECESSARY LIBRARIES AND DATASET"
      ],
      "metadata": {
        "id": "vb4wGpdYIVaW"
      }
    },
    {
      "cell_type": "markdown",
      "source": [
        "> Importing libraries needed in the analysis."
      ],
      "metadata": {
        "id": "LzKPZ-RUi13e"
      }
    },
    {
      "cell_type": "code",
      "source": [
        "import numpy as np\n",
        "import pandas as pd"
      ],
      "metadata": {
        "id": "QwsLYIEUjtLW"
      },
      "execution_count": 6,
      "outputs": []
    },
    {
      "cell_type": "markdown",
      "source": [
        "\n",
        "\n",
        "> Uploading the **.csv** file.\n",
        "\n"
      ],
      "metadata": {
        "id": "tv2BMjA4YcTj"
      }
    },
    {
      "cell_type": "code",
      "source": [
        "url = 'https://raw.githubusercontent.com/jxblrkrstffrbrms/ITBA3206-SPARTACUS/main/dataset_ph.csv'"
      ],
      "metadata": {
        "id": "EJmoiiIYYgal"
      },
      "execution_count": 7,
      "outputs": []
    },
    {
      "cell_type": "markdown",
      "source": [
        "\n",
        "\n",
        "> Reading and printing the .csv file.\n",
        "\n"
      ],
      "metadata": {
        "id": "KLCD6VmpboVx"
      }
    },
    {
      "cell_type": "code",
      "source": [
        "df= pd.read_csv(url)\n",
        "display(df)"
      ],
      "metadata": {
        "id": "fTL-Cfy_btLc",
        "outputId": "99f8dcf0-317b-4066-9379-49bc668a6ed9",
        "colab": {
          "base_uri": "https://localhost:8080/",
          "height": 488
        }
      },
      "execution_count": 8,
      "outputs": [
        {
          "output_type": "display_data",
          "data": {
            "text/plain": [
              "     continent     location        date  total_cases  new_cases  \\\n",
              "0         Asia  Philippines  30/01/2020            1        1.0   \n",
              "1         Asia  Philippines  31/01/2020            1        0.0   \n",
              "2         Asia  Philippines  01/02/2020            1        0.0   \n",
              "3         Asia  Philippines  02/02/2020            2        1.0   \n",
              "4         Asia  Philippines  03/02/2020            2        0.0   \n",
              "...        ...          ...         ...          ...        ...   \n",
              "1663      Asia        World  28/04/2022     10638632     7116.0   \n",
              "1664      Asia        World  29/04/2022     10644700     6068.0   \n",
              "1665      Asia        World  30/04/2022     10649809     5109.0   \n",
              "1666      Asia        World  01/05/2022     10653526     3717.0   \n",
              "1667      Asia        World  02/05/2022     10656649     3123.0   \n",
              "\n",
              "      new_cases_smoothed  total_deaths  new_deaths  new_deaths_smoothed  \\\n",
              "0                    NaN           NaN         NaN                  NaN   \n",
              "1                    NaN           NaN         NaN                  NaN   \n",
              "2                    NaN           NaN         NaN                  NaN   \n",
              "3                    NaN           1.0         1.0                  NaN   \n",
              "4                    NaN           1.0         0.0                  NaN   \n",
              "...                  ...           ...         ...                  ...   \n",
              "1663           15066.857       43037.0         3.0                6.571   \n",
              "1664           14339.429       43038.0         1.0                5.714   \n",
              "1665           13588.571       43041.0         3.0                5.286   \n",
              "1666           12860.571       43042.0         1.0                4.143   \n",
              "1667           12125.286       43044.0         2.0                3.286   \n",
              "\n",
              "      total_cases_per_million  ...  female_smokers  male_smokers  \\\n",
              "0                       0.009  ...             7.8          40.8   \n",
              "1                       0.009  ...             7.8          40.8   \n",
              "2                       0.009  ...             7.8          40.8   \n",
              "3                       0.018  ...             7.8          40.8   \n",
              "4                       0.018  ...             7.8          40.8   \n",
              "...                       ...  ...             ...           ...   \n",
              "1663               108370.774  ...             1.0          45.9   \n",
              "1664               108432.586  ...             1.0          45.9   \n",
              "1665               108484.629  ...             1.0          45.9   \n",
              "1666               108522.492  ...             1.0          45.9   \n",
              "1667               108554.305  ...             1.0          45.9   \n",
              "\n",
              "      handwashing_facilities  hospital_beds_per_thousand  life_expectancy  \\\n",
              "0                     78.463                         1.0            71.23   \n",
              "1                     78.463                         1.0            71.23   \n",
              "2                     78.463                         1.0            71.23   \n",
              "3                     78.463                         1.0            71.23   \n",
              "4                     78.463                         1.0            71.23   \n",
              "...                      ...                         ...              ...   \n",
              "1663                  85.847                         2.6            75.40   \n",
              "1664                  85.847                         2.6            75.40   \n",
              "1665                  85.847                         2.6            75.40   \n",
              "1666                  85.847                         2.6            75.40   \n",
              "1667                  85.847                         2.6            75.40   \n",
              "\n",
              "      human_development_index  excess_mortality_cumulative_absolute  \\\n",
              "0                       0.718                                   NaN   \n",
              "1                       0.718                               -1699.0   \n",
              "2                       0.718                                   NaN   \n",
              "3                       0.718                                   NaN   \n",
              "4                       0.718                                   NaN   \n",
              "...                       ...                                   ...   \n",
              "1663                    0.704                                   NaN   \n",
              "1664                    0.704                                   NaN   \n",
              "1665                    0.704                                   NaN   \n",
              "1666                    0.704                                   NaN   \n",
              "1667                    0.704                                   NaN   \n",
              "\n",
              "      excess_mortality_cumulative  excess_mortality  \\\n",
              "0                             NaN               NaN   \n",
              "1                           -3.08             -3.08   \n",
              "2                             NaN               NaN   \n",
              "3                             NaN               NaN   \n",
              "4                             NaN               NaN   \n",
              "...                           ...               ...   \n",
              "1663                          NaN               NaN   \n",
              "1664                          NaN               NaN   \n",
              "1665                          NaN               NaN   \n",
              "1666                          NaN               NaN   \n",
              "1667                          NaN               NaN   \n",
              "\n",
              "      excess_mortality_cumulative_per_million  \n",
              "0                                         NaN  \n",
              "1                                   -15.29984  \n",
              "2                                         NaN  \n",
              "3                                         NaN  \n",
              "4                                         NaN  \n",
              "...                                       ...  \n",
              "1663                                      NaN  \n",
              "1664                                      NaN  \n",
              "1665                                      NaN  \n",
              "1666                                      NaN  \n",
              "1667                                      NaN  \n",
              "\n",
              "[1668 rows x 66 columns]"
            ],
            "text/html": [
              "\n",
              "  <div id=\"df-188de393-f350-4571-80c9-55f9d974e1cf\">\n",
              "    <div class=\"colab-df-container\">\n",
              "      <div>\n",
              "<style scoped>\n",
              "    .dataframe tbody tr th:only-of-type {\n",
              "        vertical-align: middle;\n",
              "    }\n",
              "\n",
              "    .dataframe tbody tr th {\n",
              "        vertical-align: top;\n",
              "    }\n",
              "\n",
              "    .dataframe thead th {\n",
              "        text-align: right;\n",
              "    }\n",
              "</style>\n",
              "<table border=\"1\" class=\"dataframe\">\n",
              "  <thead>\n",
              "    <tr style=\"text-align: right;\">\n",
              "      <th></th>\n",
              "      <th>continent</th>\n",
              "      <th>location</th>\n",
              "      <th>date</th>\n",
              "      <th>total_cases</th>\n",
              "      <th>new_cases</th>\n",
              "      <th>new_cases_smoothed</th>\n",
              "      <th>total_deaths</th>\n",
              "      <th>new_deaths</th>\n",
              "      <th>new_deaths_smoothed</th>\n",
              "      <th>total_cases_per_million</th>\n",
              "      <th>...</th>\n",
              "      <th>female_smokers</th>\n",
              "      <th>male_smokers</th>\n",
              "      <th>handwashing_facilities</th>\n",
              "      <th>hospital_beds_per_thousand</th>\n",
              "      <th>life_expectancy</th>\n",
              "      <th>human_development_index</th>\n",
              "      <th>excess_mortality_cumulative_absolute</th>\n",
              "      <th>excess_mortality_cumulative</th>\n",
              "      <th>excess_mortality</th>\n",
              "      <th>excess_mortality_cumulative_per_million</th>\n",
              "    </tr>\n",
              "  </thead>\n",
              "  <tbody>\n",
              "    <tr>\n",
              "      <th>0</th>\n",
              "      <td>Asia</td>\n",
              "      <td>Philippines</td>\n",
              "      <td>30/01/2020</td>\n",
              "      <td>1</td>\n",
              "      <td>1.0</td>\n",
              "      <td>NaN</td>\n",
              "      <td>NaN</td>\n",
              "      <td>NaN</td>\n",
              "      <td>NaN</td>\n",
              "      <td>0.009</td>\n",
              "      <td>...</td>\n",
              "      <td>7.8</td>\n",
              "      <td>40.8</td>\n",
              "      <td>78.463</td>\n",
              "      <td>1.0</td>\n",
              "      <td>71.23</td>\n",
              "      <td>0.718</td>\n",
              "      <td>NaN</td>\n",
              "      <td>NaN</td>\n",
              "      <td>NaN</td>\n",
              "      <td>NaN</td>\n",
              "    </tr>\n",
              "    <tr>\n",
              "      <th>1</th>\n",
              "      <td>Asia</td>\n",
              "      <td>Philippines</td>\n",
              "      <td>31/01/2020</td>\n",
              "      <td>1</td>\n",
              "      <td>0.0</td>\n",
              "      <td>NaN</td>\n",
              "      <td>NaN</td>\n",
              "      <td>NaN</td>\n",
              "      <td>NaN</td>\n",
              "      <td>0.009</td>\n",
              "      <td>...</td>\n",
              "      <td>7.8</td>\n",
              "      <td>40.8</td>\n",
              "      <td>78.463</td>\n",
              "      <td>1.0</td>\n",
              "      <td>71.23</td>\n",
              "      <td>0.718</td>\n",
              "      <td>-1699.0</td>\n",
              "      <td>-3.08</td>\n",
              "      <td>-3.08</td>\n",
              "      <td>-15.29984</td>\n",
              "    </tr>\n",
              "    <tr>\n",
              "      <th>2</th>\n",
              "      <td>Asia</td>\n",
              "      <td>Philippines</td>\n",
              "      <td>01/02/2020</td>\n",
              "      <td>1</td>\n",
              "      <td>0.0</td>\n",
              "      <td>NaN</td>\n",
              "      <td>NaN</td>\n",
              "      <td>NaN</td>\n",
              "      <td>NaN</td>\n",
              "      <td>0.009</td>\n",
              "      <td>...</td>\n",
              "      <td>7.8</td>\n",
              "      <td>40.8</td>\n",
              "      <td>78.463</td>\n",
              "      <td>1.0</td>\n",
              "      <td>71.23</td>\n",
              "      <td>0.718</td>\n",
              "      <td>NaN</td>\n",
              "      <td>NaN</td>\n",
              "      <td>NaN</td>\n",
              "      <td>NaN</td>\n",
              "    </tr>\n",
              "    <tr>\n",
              "      <th>3</th>\n",
              "      <td>Asia</td>\n",
              "      <td>Philippines</td>\n",
              "      <td>02/02/2020</td>\n",
              "      <td>2</td>\n",
              "      <td>1.0</td>\n",
              "      <td>NaN</td>\n",
              "      <td>1.0</td>\n",
              "      <td>1.0</td>\n",
              "      <td>NaN</td>\n",
              "      <td>0.018</td>\n",
              "      <td>...</td>\n",
              "      <td>7.8</td>\n",
              "      <td>40.8</td>\n",
              "      <td>78.463</td>\n",
              "      <td>1.0</td>\n",
              "      <td>71.23</td>\n",
              "      <td>0.718</td>\n",
              "      <td>NaN</td>\n",
              "      <td>NaN</td>\n",
              "      <td>NaN</td>\n",
              "      <td>NaN</td>\n",
              "    </tr>\n",
              "    <tr>\n",
              "      <th>4</th>\n",
              "      <td>Asia</td>\n",
              "      <td>Philippines</td>\n",
              "      <td>03/02/2020</td>\n",
              "      <td>2</td>\n",
              "      <td>0.0</td>\n",
              "      <td>NaN</td>\n",
              "      <td>1.0</td>\n",
              "      <td>0.0</td>\n",
              "      <td>NaN</td>\n",
              "      <td>0.018</td>\n",
              "      <td>...</td>\n",
              "      <td>7.8</td>\n",
              "      <td>40.8</td>\n",
              "      <td>78.463</td>\n",
              "      <td>1.0</td>\n",
              "      <td>71.23</td>\n",
              "      <td>0.718</td>\n",
              "      <td>NaN</td>\n",
              "      <td>NaN</td>\n",
              "      <td>NaN</td>\n",
              "      <td>NaN</td>\n",
              "    </tr>\n",
              "    <tr>\n",
              "      <th>...</th>\n",
              "      <td>...</td>\n",
              "      <td>...</td>\n",
              "      <td>...</td>\n",
              "      <td>...</td>\n",
              "      <td>...</td>\n",
              "      <td>...</td>\n",
              "      <td>...</td>\n",
              "      <td>...</td>\n",
              "      <td>...</td>\n",
              "      <td>...</td>\n",
              "      <td>...</td>\n",
              "      <td>...</td>\n",
              "      <td>...</td>\n",
              "      <td>...</td>\n",
              "      <td>...</td>\n",
              "      <td>...</td>\n",
              "      <td>...</td>\n",
              "      <td>...</td>\n",
              "      <td>...</td>\n",
              "      <td>...</td>\n",
              "      <td>...</td>\n",
              "    </tr>\n",
              "    <tr>\n",
              "      <th>1663</th>\n",
              "      <td>Asia</td>\n",
              "      <td>World</td>\n",
              "      <td>28/04/2022</td>\n",
              "      <td>10638632</td>\n",
              "      <td>7116.0</td>\n",
              "      <td>15066.857</td>\n",
              "      <td>43037.0</td>\n",
              "      <td>3.0</td>\n",
              "      <td>6.571</td>\n",
              "      <td>108370.774</td>\n",
              "      <td>...</td>\n",
              "      <td>1.0</td>\n",
              "      <td>45.9</td>\n",
              "      <td>85.847</td>\n",
              "      <td>2.6</td>\n",
              "      <td>75.40</td>\n",
              "      <td>0.704</td>\n",
              "      <td>NaN</td>\n",
              "      <td>NaN</td>\n",
              "      <td>NaN</td>\n",
              "      <td>NaN</td>\n",
              "    </tr>\n",
              "    <tr>\n",
              "      <th>1664</th>\n",
              "      <td>Asia</td>\n",
              "      <td>World</td>\n",
              "      <td>29/04/2022</td>\n",
              "      <td>10644700</td>\n",
              "      <td>6068.0</td>\n",
              "      <td>14339.429</td>\n",
              "      <td>43038.0</td>\n",
              "      <td>1.0</td>\n",
              "      <td>5.714</td>\n",
              "      <td>108432.586</td>\n",
              "      <td>...</td>\n",
              "      <td>1.0</td>\n",
              "      <td>45.9</td>\n",
              "      <td>85.847</td>\n",
              "      <td>2.6</td>\n",
              "      <td>75.40</td>\n",
              "      <td>0.704</td>\n",
              "      <td>NaN</td>\n",
              "      <td>NaN</td>\n",
              "      <td>NaN</td>\n",
              "      <td>NaN</td>\n",
              "    </tr>\n",
              "    <tr>\n",
              "      <th>1665</th>\n",
              "      <td>Asia</td>\n",
              "      <td>World</td>\n",
              "      <td>30/04/2022</td>\n",
              "      <td>10649809</td>\n",
              "      <td>5109.0</td>\n",
              "      <td>13588.571</td>\n",
              "      <td>43041.0</td>\n",
              "      <td>3.0</td>\n",
              "      <td>5.286</td>\n",
              "      <td>108484.629</td>\n",
              "      <td>...</td>\n",
              "      <td>1.0</td>\n",
              "      <td>45.9</td>\n",
              "      <td>85.847</td>\n",
              "      <td>2.6</td>\n",
              "      <td>75.40</td>\n",
              "      <td>0.704</td>\n",
              "      <td>NaN</td>\n",
              "      <td>NaN</td>\n",
              "      <td>NaN</td>\n",
              "      <td>NaN</td>\n",
              "    </tr>\n",
              "    <tr>\n",
              "      <th>1666</th>\n",
              "      <td>Asia</td>\n",
              "      <td>World</td>\n",
              "      <td>01/05/2022</td>\n",
              "      <td>10653526</td>\n",
              "      <td>3717.0</td>\n",
              "      <td>12860.571</td>\n",
              "      <td>43042.0</td>\n",
              "      <td>1.0</td>\n",
              "      <td>4.143</td>\n",
              "      <td>108522.492</td>\n",
              "      <td>...</td>\n",
              "      <td>1.0</td>\n",
              "      <td>45.9</td>\n",
              "      <td>85.847</td>\n",
              "      <td>2.6</td>\n",
              "      <td>75.40</td>\n",
              "      <td>0.704</td>\n",
              "      <td>NaN</td>\n",
              "      <td>NaN</td>\n",
              "      <td>NaN</td>\n",
              "      <td>NaN</td>\n",
              "    </tr>\n",
              "    <tr>\n",
              "      <th>1667</th>\n",
              "      <td>Asia</td>\n",
              "      <td>World</td>\n",
              "      <td>02/05/2022</td>\n",
              "      <td>10656649</td>\n",
              "      <td>3123.0</td>\n",
              "      <td>12125.286</td>\n",
              "      <td>43044.0</td>\n",
              "      <td>2.0</td>\n",
              "      <td>3.286</td>\n",
              "      <td>108554.305</td>\n",
              "      <td>...</td>\n",
              "      <td>1.0</td>\n",
              "      <td>45.9</td>\n",
              "      <td>85.847</td>\n",
              "      <td>2.6</td>\n",
              "      <td>75.40</td>\n",
              "      <td>0.704</td>\n",
              "      <td>NaN</td>\n",
              "      <td>NaN</td>\n",
              "      <td>NaN</td>\n",
              "      <td>NaN</td>\n",
              "    </tr>\n",
              "  </tbody>\n",
              "</table>\n",
              "<p>1668 rows × 66 columns</p>\n",
              "</div>\n",
              "      <button class=\"colab-df-convert\" onclick=\"convertToInteractive('df-188de393-f350-4571-80c9-55f9d974e1cf')\"\n",
              "              title=\"Convert this dataframe to an interactive table.\"\n",
              "              style=\"display:none;\">\n",
              "        \n",
              "  <svg xmlns=\"http://www.w3.org/2000/svg\" height=\"24px\"viewBox=\"0 0 24 24\"\n",
              "       width=\"24px\">\n",
              "    <path d=\"M0 0h24v24H0V0z\" fill=\"none\"/>\n",
              "    <path d=\"M18.56 5.44l.94 2.06.94-2.06 2.06-.94-2.06-.94-.94-2.06-.94 2.06-2.06.94zm-11 1L8.5 8.5l.94-2.06 2.06-.94-2.06-.94L8.5 2.5l-.94 2.06-2.06.94zm10 10l.94 2.06.94-2.06 2.06-.94-2.06-.94-.94-2.06-.94 2.06-2.06.94z\"/><path d=\"M17.41 7.96l-1.37-1.37c-.4-.4-.92-.59-1.43-.59-.52 0-1.04.2-1.43.59L10.3 9.45l-7.72 7.72c-.78.78-.78 2.05 0 2.83L4 21.41c.39.39.9.59 1.41.59.51 0 1.02-.2 1.41-.59l7.78-7.78 2.81-2.81c.8-.78.8-2.07 0-2.86zM5.41 20L4 18.59l7.72-7.72 1.47 1.35L5.41 20z\"/>\n",
              "  </svg>\n",
              "      </button>\n",
              "      \n",
              "  <style>\n",
              "    .colab-df-container {\n",
              "      display:flex;\n",
              "      flex-wrap:wrap;\n",
              "      gap: 12px;\n",
              "    }\n",
              "\n",
              "    .colab-df-convert {\n",
              "      background-color: #E8F0FE;\n",
              "      border: none;\n",
              "      border-radius: 50%;\n",
              "      cursor: pointer;\n",
              "      display: none;\n",
              "      fill: #1967D2;\n",
              "      height: 32px;\n",
              "      padding: 0 0 0 0;\n",
              "      width: 32px;\n",
              "    }\n",
              "\n",
              "    .colab-df-convert:hover {\n",
              "      background-color: #E2EBFA;\n",
              "      box-shadow: 0px 1px 2px rgba(60, 64, 67, 0.3), 0px 1px 3px 1px rgba(60, 64, 67, 0.15);\n",
              "      fill: #174EA6;\n",
              "    }\n",
              "\n",
              "    [theme=dark] .colab-df-convert {\n",
              "      background-color: #3B4455;\n",
              "      fill: #D2E3FC;\n",
              "    }\n",
              "\n",
              "    [theme=dark] .colab-df-convert:hover {\n",
              "      background-color: #434B5C;\n",
              "      box-shadow: 0px 1px 3px 1px rgba(0, 0, 0, 0.15);\n",
              "      filter: drop-shadow(0px 1px 2px rgba(0, 0, 0, 0.3));\n",
              "      fill: #FFFFFF;\n",
              "    }\n",
              "  </style>\n",
              "\n",
              "      <script>\n",
              "        const buttonEl =\n",
              "          document.querySelector('#df-188de393-f350-4571-80c9-55f9d974e1cf button.colab-df-convert');\n",
              "        buttonEl.style.display =\n",
              "          google.colab.kernel.accessAllowed ? 'block' : 'none';\n",
              "\n",
              "        async function convertToInteractive(key) {\n",
              "          const element = document.querySelector('#df-188de393-f350-4571-80c9-55f9d974e1cf');\n",
              "          const dataTable =\n",
              "            await google.colab.kernel.invokeFunction('convertToInteractive',\n",
              "                                                     [key], {});\n",
              "          if (!dataTable) return;\n",
              "\n",
              "          const docLinkHtml = 'Like what you see? Visit the ' +\n",
              "            '<a target=\"_blank\" href=https://colab.research.google.com/notebooks/data_table.ipynb>data table notebook</a>'\n",
              "            + ' to learn more about interactive tables.';\n",
              "          element.innerHTML = '';\n",
              "          dataTable['output_type'] = 'display_data';\n",
              "          await google.colab.output.renderOutput(dataTable, element);\n",
              "          const docLink = document.createElement('div');\n",
              "          docLink.innerHTML = docLinkHtml;\n",
              "          element.appendChild(docLink);\n",
              "        }\n",
              "      </script>\n",
              "    </div>\n",
              "  </div>\n",
              "  "
            ]
          },
          "metadata": {}
        }
      ]
    },
    {
      "cell_type": "markdown",
      "source": [
        "> The dataset our team got contains all the data regarding COVID-19 around the world.\n",
        "> Since what we'll need for the analysis is only for our country which is the Philippines, we need to delete unnecessary rows and columns from our dataset. Also, cleaning the dataset is essential for us to have accurate results."
      ],
      "metadata": {
        "id": "O2OwtkX9svGp"
      }
    },
    {
      "cell_type": "markdown",
      "source": [
        "> To be used in the presentation, we also added another csv file for the population in Asia.\n",
        "\n"
      ],
      "metadata": {
        "id": "otH4m1rge5Jt"
      }
    },
    {
      "cell_type": "code",
      "source": [
        "url = 'https://raw.githubusercontent.com/jxblrkrstffrbrms/ITBA3206-SPARTACUS/main/ASIA-COUNTRIES-POPULATION.csv'\n",
        "asiadf= pd.read_csv(url)\n",
        "display(asiadf)"
      ],
      "metadata": {
        "id": "gOoMNoRFfC4W",
        "outputId": "3ade9b32-340d-4779-b5dc-3dd40e133648",
        "colab": {
          "base_uri": "https://localhost:8080/",
          "height": 363
        }
      },
      "execution_count": 9,
      "outputs": [
        {
          "output_type": "display_data",
          "data": {
            "text/plain": [
              "       COUNTRY     POPULATION\n",
              "0        China  1,439,323,776\n",
              "1        India  1,380,004,385\n",
              "2    Indonesia    273,523,615\n",
              "3     Pakistan    220,892,340\n",
              "4   Bangladesh    164,689,383\n",
              "5        Japan    126,476,461\n",
              "6  Philippines    109,581,078\n",
              "7      Vietnam     97,338,579\n",
              "8       Turkey     84,339,067\n",
              "9         Iran     83,992,949"
            ],
            "text/html": [
              "\n",
              "  <div id=\"df-bec5d3f4-56dd-44ab-8767-8c4b8a4805d5\">\n",
              "    <div class=\"colab-df-container\">\n",
              "      <div>\n",
              "<style scoped>\n",
              "    .dataframe tbody tr th:only-of-type {\n",
              "        vertical-align: middle;\n",
              "    }\n",
              "\n",
              "    .dataframe tbody tr th {\n",
              "        vertical-align: top;\n",
              "    }\n",
              "\n",
              "    .dataframe thead th {\n",
              "        text-align: right;\n",
              "    }\n",
              "</style>\n",
              "<table border=\"1\" class=\"dataframe\">\n",
              "  <thead>\n",
              "    <tr style=\"text-align: right;\">\n",
              "      <th></th>\n",
              "      <th>COUNTRY</th>\n",
              "      <th>POPULATION</th>\n",
              "    </tr>\n",
              "  </thead>\n",
              "  <tbody>\n",
              "    <tr>\n",
              "      <th>0</th>\n",
              "      <td>China</td>\n",
              "      <td>1,439,323,776</td>\n",
              "    </tr>\n",
              "    <tr>\n",
              "      <th>1</th>\n",
              "      <td>India</td>\n",
              "      <td>1,380,004,385</td>\n",
              "    </tr>\n",
              "    <tr>\n",
              "      <th>2</th>\n",
              "      <td>Indonesia</td>\n",
              "      <td>273,523,615</td>\n",
              "    </tr>\n",
              "    <tr>\n",
              "      <th>3</th>\n",
              "      <td>Pakistan</td>\n",
              "      <td>220,892,340</td>\n",
              "    </tr>\n",
              "    <tr>\n",
              "      <th>4</th>\n",
              "      <td>Bangladesh</td>\n",
              "      <td>164,689,383</td>\n",
              "    </tr>\n",
              "    <tr>\n",
              "      <th>5</th>\n",
              "      <td>Japan</td>\n",
              "      <td>126,476,461</td>\n",
              "    </tr>\n",
              "    <tr>\n",
              "      <th>6</th>\n",
              "      <td>Philippines</td>\n",
              "      <td>109,581,078</td>\n",
              "    </tr>\n",
              "    <tr>\n",
              "      <th>7</th>\n",
              "      <td>Vietnam</td>\n",
              "      <td>97,338,579</td>\n",
              "    </tr>\n",
              "    <tr>\n",
              "      <th>8</th>\n",
              "      <td>Turkey</td>\n",
              "      <td>84,339,067</td>\n",
              "    </tr>\n",
              "    <tr>\n",
              "      <th>9</th>\n",
              "      <td>Iran</td>\n",
              "      <td>83,992,949</td>\n",
              "    </tr>\n",
              "  </tbody>\n",
              "</table>\n",
              "</div>\n",
              "      <button class=\"colab-df-convert\" onclick=\"convertToInteractive('df-bec5d3f4-56dd-44ab-8767-8c4b8a4805d5')\"\n",
              "              title=\"Convert this dataframe to an interactive table.\"\n",
              "              style=\"display:none;\">\n",
              "        \n",
              "  <svg xmlns=\"http://www.w3.org/2000/svg\" height=\"24px\"viewBox=\"0 0 24 24\"\n",
              "       width=\"24px\">\n",
              "    <path d=\"M0 0h24v24H0V0z\" fill=\"none\"/>\n",
              "    <path d=\"M18.56 5.44l.94 2.06.94-2.06 2.06-.94-2.06-.94-.94-2.06-.94 2.06-2.06.94zm-11 1L8.5 8.5l.94-2.06 2.06-.94-2.06-.94L8.5 2.5l-.94 2.06-2.06.94zm10 10l.94 2.06.94-2.06 2.06-.94-2.06-.94-.94-2.06-.94 2.06-2.06.94z\"/><path d=\"M17.41 7.96l-1.37-1.37c-.4-.4-.92-.59-1.43-.59-.52 0-1.04.2-1.43.59L10.3 9.45l-7.72 7.72c-.78.78-.78 2.05 0 2.83L4 21.41c.39.39.9.59 1.41.59.51 0 1.02-.2 1.41-.59l7.78-7.78 2.81-2.81c.8-.78.8-2.07 0-2.86zM5.41 20L4 18.59l7.72-7.72 1.47 1.35L5.41 20z\"/>\n",
              "  </svg>\n",
              "      </button>\n",
              "      \n",
              "  <style>\n",
              "    .colab-df-container {\n",
              "      display:flex;\n",
              "      flex-wrap:wrap;\n",
              "      gap: 12px;\n",
              "    }\n",
              "\n",
              "    .colab-df-convert {\n",
              "      background-color: #E8F0FE;\n",
              "      border: none;\n",
              "      border-radius: 50%;\n",
              "      cursor: pointer;\n",
              "      display: none;\n",
              "      fill: #1967D2;\n",
              "      height: 32px;\n",
              "      padding: 0 0 0 0;\n",
              "      width: 32px;\n",
              "    }\n",
              "\n",
              "    .colab-df-convert:hover {\n",
              "      background-color: #E2EBFA;\n",
              "      box-shadow: 0px 1px 2px rgba(60, 64, 67, 0.3), 0px 1px 3px 1px rgba(60, 64, 67, 0.15);\n",
              "      fill: #174EA6;\n",
              "    }\n",
              "\n",
              "    [theme=dark] .colab-df-convert {\n",
              "      background-color: #3B4455;\n",
              "      fill: #D2E3FC;\n",
              "    }\n",
              "\n",
              "    [theme=dark] .colab-df-convert:hover {\n",
              "      background-color: #434B5C;\n",
              "      box-shadow: 0px 1px 3px 1px rgba(0, 0, 0, 0.15);\n",
              "      filter: drop-shadow(0px 1px 2px rgba(0, 0, 0, 0.3));\n",
              "      fill: #FFFFFF;\n",
              "    }\n",
              "  </style>\n",
              "\n",
              "      <script>\n",
              "        const buttonEl =\n",
              "          document.querySelector('#df-bec5d3f4-56dd-44ab-8767-8c4b8a4805d5 button.colab-df-convert');\n",
              "        buttonEl.style.display =\n",
              "          google.colab.kernel.accessAllowed ? 'block' : 'none';\n",
              "\n",
              "        async function convertToInteractive(key) {\n",
              "          const element = document.querySelector('#df-bec5d3f4-56dd-44ab-8767-8c4b8a4805d5');\n",
              "          const dataTable =\n",
              "            await google.colab.kernel.invokeFunction('convertToInteractive',\n",
              "                                                     [key], {});\n",
              "          if (!dataTable) return;\n",
              "\n",
              "          const docLinkHtml = 'Like what you see? Visit the ' +\n",
              "            '<a target=\"_blank\" href=https://colab.research.google.com/notebooks/data_table.ipynb>data table notebook</a>'\n",
              "            + ' to learn more about interactive tables.';\n",
              "          element.innerHTML = '';\n",
              "          dataTable['output_type'] = 'display_data';\n",
              "          await google.colab.output.renderOutput(dataTable, element);\n",
              "          const docLink = document.createElement('div');\n",
              "          docLink.innerHTML = docLinkHtml;\n",
              "          element.appendChild(docLink);\n",
              "        }\n",
              "      </script>\n",
              "    </div>\n",
              "  </div>\n",
              "  "
            ]
          },
          "metadata": {}
        }
      ]
    },
    {
      "cell_type": "markdown",
      "source": [
        "# PART 2 : DATA CLEANING"
      ],
      "metadata": {
        "id": "AKIdpXR2IlvU"
      }
    },
    {
      "cell_type": "markdown",
      "source": [
        "> First, lets delete unnecessary columns."
      ],
      "metadata": {
        "id": "ijf8WVfCd7pP"
      }
    },
    {
      "cell_type": "code",
      "source": [
        "df1= pd.DataFrame(df)\n",
        "df1.drop(['new_cases_smoothed', \n",
        "          'new_deaths_smoothed', \n",
        "          'excess_mortality', \n",
        "          'excess_mortality_cumulative_per_million', \n",
        "          'new_cases_smoothed_per_million', \n",
        "          'excess_mortality_cumulative_absolute', \n",
        "          'excess_mortality_cumulative', \n",
        "          'gdp_per_capita', \n",
        "          'extreme_poverty', \n",
        "          'cardiovasc_death_rate',\n",
        "          'human_development_index',\n",
        "          'life_expectancy',\n",
        "          'hospital_beds_per_thousand',\n",
        "          'diabetes_prevalence',\n",
        "          'population_density',\n",
        "          'stringency_index',\n",
        "          'new_people_vaccinated_smoothed_per_hundred',\n",
        "          'new_people_vaccinated_smoothed',\n",
        "          'new_vaccinations_smoothed_per_million',\n",
        "          'new_vaccinations_smoothed',\n",
        "          'new_tests_smoothed_per_thousand',\n",
        "          'new_tests_smoothed',\n",
        "          'weekly_hosp_admissions_per_million',\n",
        "          'weekly_icu_admissions_per_million',\n",
        "          'hosp_patients_per_million',\n",
        "          'icu_patients_per_million',\n",
        "          'new_deaths_smoothed_per_million',\n",
        "          'icu_patients',\n",
        "          'hosp_patients',\n",
        "          'weekly_icu_admissions',\n",
        "          'weekly_hosp_admissions'], axis = 1, inplace=True)\n",
        "display(df1)"
      ],
      "metadata": {
        "id": "kJPg96aeeGId",
        "outputId": "dd46c846-3dd6-46ac-d056-515ba4bc70c4",
        "colab": {
          "base_uri": "https://localhost:8080/",
          "height": 488
        }
      },
      "execution_count": 10,
      "outputs": [
        {
          "output_type": "display_data",
          "data": {
            "text/plain": [
              "     continent     location        date  total_cases  new_cases  total_deaths  \\\n",
              "0         Asia  Philippines  30/01/2020            1        1.0           NaN   \n",
              "1         Asia  Philippines  31/01/2020            1        0.0           NaN   \n",
              "2         Asia  Philippines  01/02/2020            1        0.0           NaN   \n",
              "3         Asia  Philippines  02/02/2020            2        1.0           1.0   \n",
              "4         Asia  Philippines  03/02/2020            2        0.0           1.0   \n",
              "...        ...          ...         ...          ...        ...           ...   \n",
              "1663      Asia        World  28/04/2022     10638632     7116.0       43037.0   \n",
              "1664      Asia        World  29/04/2022     10644700     6068.0       43038.0   \n",
              "1665      Asia        World  30/04/2022     10649809     5109.0       43041.0   \n",
              "1666      Asia        World  01/05/2022     10653526     3717.0       43042.0   \n",
              "1667      Asia        World  02/05/2022     10656649     3123.0       43044.0   \n",
              "\n",
              "      new_deaths  total_cases_per_million  new_cases_per_million  \\\n",
              "0            NaN                    0.009                  0.009   \n",
              "1            NaN                    0.009                  0.000   \n",
              "2            NaN                    0.009                  0.000   \n",
              "3            1.0                    0.018                  0.009   \n",
              "4            0.0                    0.018                  0.000   \n",
              "...          ...                      ...                    ...   \n",
              "1663         3.0               108370.774                 72.487   \n",
              "1664         1.0               108432.586                 61.812   \n",
              "1665         3.0               108484.629                 52.043   \n",
              "1666         1.0               108522.492                 37.863   \n",
              "1667         2.0               108554.305                 31.813   \n",
              "\n",
              "      total_deaths_per_million  ...  people_vaccinated_per_hundred  \\\n",
              "0                          NaN  ...                            NaN   \n",
              "1                          NaN  ...                            NaN   \n",
              "2                          NaN  ...                            NaN   \n",
              "3                        0.009  ...                            NaN   \n",
              "4                        0.009  ...                            NaN   \n",
              "...                        ...  ...                            ...   \n",
              "1663                   438.398  ...                            NaN   \n",
              "1664                   438.408  ...                            NaN   \n",
              "1665                   438.439  ...                            NaN   \n",
              "1666                   438.449  ...                            NaN   \n",
              "1667                   438.469  ...                            NaN   \n",
              "\n",
              "      people_fully_vaccinated_per_hundred  total_boosters_per_hundred  \\\n",
              "0                                     NaN                         NaN   \n",
              "1                                     NaN                         NaN   \n",
              "2                                     NaN                         NaN   \n",
              "3                                     NaN                         NaN   \n",
              "4                                     NaN                         NaN   \n",
              "...                                   ...                         ...   \n",
              "1663                                  NaN                         NaN   \n",
              "1664                                  NaN                         NaN   \n",
              "1665                                  NaN                         NaN   \n",
              "1666                                  NaN                         NaN   \n",
              "1667                                  NaN                         NaN   \n",
              "\n",
              "      population  median_age  aged_65_older  aged_70_older  female_smokers  \\\n",
              "0      111046910        25.2          4.803          2.661             7.8   \n",
              "1      111046910        25.2          4.803          2.661             7.8   \n",
              "2      111046910        25.2          4.803          2.661             7.8   \n",
              "3      111046910        25.2          4.803          2.661             7.8   \n",
              "4      111046910        25.2          4.803          2.661             7.8   \n",
              "...          ...         ...            ...            ...             ...   \n",
              "1663    98168829        32.6          7.150          4.718             1.0   \n",
              "1664    98168829        32.6          7.150          4.718             1.0   \n",
              "1665    98168829        32.6          7.150          4.718             1.0   \n",
              "1666    98168829        32.6          7.150          4.718             1.0   \n",
              "1667    98168829        32.6          7.150          4.718             1.0   \n",
              "\n",
              "     male_smokers  handwashing_facilities  \n",
              "0            40.8                  78.463  \n",
              "1            40.8                  78.463  \n",
              "2            40.8                  78.463  \n",
              "3            40.8                  78.463  \n",
              "4            40.8                  78.463  \n",
              "...           ...                     ...  \n",
              "1663         45.9                  85.847  \n",
              "1664         45.9                  85.847  \n",
              "1665         45.9                  85.847  \n",
              "1666         45.9                  85.847  \n",
              "1667         45.9                  85.847  \n",
              "\n",
              "[1668 rows x 35 columns]"
            ],
            "text/html": [
              "\n",
              "  <div id=\"df-9695c2f4-5506-4b33-b8ac-3ec5fc647b85\">\n",
              "    <div class=\"colab-df-container\">\n",
              "      <div>\n",
              "<style scoped>\n",
              "    .dataframe tbody tr th:only-of-type {\n",
              "        vertical-align: middle;\n",
              "    }\n",
              "\n",
              "    .dataframe tbody tr th {\n",
              "        vertical-align: top;\n",
              "    }\n",
              "\n",
              "    .dataframe thead th {\n",
              "        text-align: right;\n",
              "    }\n",
              "</style>\n",
              "<table border=\"1\" class=\"dataframe\">\n",
              "  <thead>\n",
              "    <tr style=\"text-align: right;\">\n",
              "      <th></th>\n",
              "      <th>continent</th>\n",
              "      <th>location</th>\n",
              "      <th>date</th>\n",
              "      <th>total_cases</th>\n",
              "      <th>new_cases</th>\n",
              "      <th>total_deaths</th>\n",
              "      <th>new_deaths</th>\n",
              "      <th>total_cases_per_million</th>\n",
              "      <th>new_cases_per_million</th>\n",
              "      <th>total_deaths_per_million</th>\n",
              "      <th>...</th>\n",
              "      <th>people_vaccinated_per_hundred</th>\n",
              "      <th>people_fully_vaccinated_per_hundred</th>\n",
              "      <th>total_boosters_per_hundred</th>\n",
              "      <th>population</th>\n",
              "      <th>median_age</th>\n",
              "      <th>aged_65_older</th>\n",
              "      <th>aged_70_older</th>\n",
              "      <th>female_smokers</th>\n",
              "      <th>male_smokers</th>\n",
              "      <th>handwashing_facilities</th>\n",
              "    </tr>\n",
              "  </thead>\n",
              "  <tbody>\n",
              "    <tr>\n",
              "      <th>0</th>\n",
              "      <td>Asia</td>\n",
              "      <td>Philippines</td>\n",
              "      <td>30/01/2020</td>\n",
              "      <td>1</td>\n",
              "      <td>1.0</td>\n",
              "      <td>NaN</td>\n",
              "      <td>NaN</td>\n",
              "      <td>0.009</td>\n",
              "      <td>0.009</td>\n",
              "      <td>NaN</td>\n",
              "      <td>...</td>\n",
              "      <td>NaN</td>\n",
              "      <td>NaN</td>\n",
              "      <td>NaN</td>\n",
              "      <td>111046910</td>\n",
              "      <td>25.2</td>\n",
              "      <td>4.803</td>\n",
              "      <td>2.661</td>\n",
              "      <td>7.8</td>\n",
              "      <td>40.8</td>\n",
              "      <td>78.463</td>\n",
              "    </tr>\n",
              "    <tr>\n",
              "      <th>1</th>\n",
              "      <td>Asia</td>\n",
              "      <td>Philippines</td>\n",
              "      <td>31/01/2020</td>\n",
              "      <td>1</td>\n",
              "      <td>0.0</td>\n",
              "      <td>NaN</td>\n",
              "      <td>NaN</td>\n",
              "      <td>0.009</td>\n",
              "      <td>0.000</td>\n",
              "      <td>NaN</td>\n",
              "      <td>...</td>\n",
              "      <td>NaN</td>\n",
              "      <td>NaN</td>\n",
              "      <td>NaN</td>\n",
              "      <td>111046910</td>\n",
              "      <td>25.2</td>\n",
              "      <td>4.803</td>\n",
              "      <td>2.661</td>\n",
              "      <td>7.8</td>\n",
              "      <td>40.8</td>\n",
              "      <td>78.463</td>\n",
              "    </tr>\n",
              "    <tr>\n",
              "      <th>2</th>\n",
              "      <td>Asia</td>\n",
              "      <td>Philippines</td>\n",
              "      <td>01/02/2020</td>\n",
              "      <td>1</td>\n",
              "      <td>0.0</td>\n",
              "      <td>NaN</td>\n",
              "      <td>NaN</td>\n",
              "      <td>0.009</td>\n",
              "      <td>0.000</td>\n",
              "      <td>NaN</td>\n",
              "      <td>...</td>\n",
              "      <td>NaN</td>\n",
              "      <td>NaN</td>\n",
              "      <td>NaN</td>\n",
              "      <td>111046910</td>\n",
              "      <td>25.2</td>\n",
              "      <td>4.803</td>\n",
              "      <td>2.661</td>\n",
              "      <td>7.8</td>\n",
              "      <td>40.8</td>\n",
              "      <td>78.463</td>\n",
              "    </tr>\n",
              "    <tr>\n",
              "      <th>3</th>\n",
              "      <td>Asia</td>\n",
              "      <td>Philippines</td>\n",
              "      <td>02/02/2020</td>\n",
              "      <td>2</td>\n",
              "      <td>1.0</td>\n",
              "      <td>1.0</td>\n",
              "      <td>1.0</td>\n",
              "      <td>0.018</td>\n",
              "      <td>0.009</td>\n",
              "      <td>0.009</td>\n",
              "      <td>...</td>\n",
              "      <td>NaN</td>\n",
              "      <td>NaN</td>\n",
              "      <td>NaN</td>\n",
              "      <td>111046910</td>\n",
              "      <td>25.2</td>\n",
              "      <td>4.803</td>\n",
              "      <td>2.661</td>\n",
              "      <td>7.8</td>\n",
              "      <td>40.8</td>\n",
              "      <td>78.463</td>\n",
              "    </tr>\n",
              "    <tr>\n",
              "      <th>4</th>\n",
              "      <td>Asia</td>\n",
              "      <td>Philippines</td>\n",
              "      <td>03/02/2020</td>\n",
              "      <td>2</td>\n",
              "      <td>0.0</td>\n",
              "      <td>1.0</td>\n",
              "      <td>0.0</td>\n",
              "      <td>0.018</td>\n",
              "      <td>0.000</td>\n",
              "      <td>0.009</td>\n",
              "      <td>...</td>\n",
              "      <td>NaN</td>\n",
              "      <td>NaN</td>\n",
              "      <td>NaN</td>\n",
              "      <td>111046910</td>\n",
              "      <td>25.2</td>\n",
              "      <td>4.803</td>\n",
              "      <td>2.661</td>\n",
              "      <td>7.8</td>\n",
              "      <td>40.8</td>\n",
              "      <td>78.463</td>\n",
              "    </tr>\n",
              "    <tr>\n",
              "      <th>...</th>\n",
              "      <td>...</td>\n",
              "      <td>...</td>\n",
              "      <td>...</td>\n",
              "      <td>...</td>\n",
              "      <td>...</td>\n",
              "      <td>...</td>\n",
              "      <td>...</td>\n",
              "      <td>...</td>\n",
              "      <td>...</td>\n",
              "      <td>...</td>\n",
              "      <td>...</td>\n",
              "      <td>...</td>\n",
              "      <td>...</td>\n",
              "      <td>...</td>\n",
              "      <td>...</td>\n",
              "      <td>...</td>\n",
              "      <td>...</td>\n",
              "      <td>...</td>\n",
              "      <td>...</td>\n",
              "      <td>...</td>\n",
              "      <td>...</td>\n",
              "    </tr>\n",
              "    <tr>\n",
              "      <th>1663</th>\n",
              "      <td>Asia</td>\n",
              "      <td>World</td>\n",
              "      <td>28/04/2022</td>\n",
              "      <td>10638632</td>\n",
              "      <td>7116.0</td>\n",
              "      <td>43037.0</td>\n",
              "      <td>3.0</td>\n",
              "      <td>108370.774</td>\n",
              "      <td>72.487</td>\n",
              "      <td>438.398</td>\n",
              "      <td>...</td>\n",
              "      <td>NaN</td>\n",
              "      <td>NaN</td>\n",
              "      <td>NaN</td>\n",
              "      <td>98168829</td>\n",
              "      <td>32.6</td>\n",
              "      <td>7.150</td>\n",
              "      <td>4.718</td>\n",
              "      <td>1.0</td>\n",
              "      <td>45.9</td>\n",
              "      <td>85.847</td>\n",
              "    </tr>\n",
              "    <tr>\n",
              "      <th>1664</th>\n",
              "      <td>Asia</td>\n",
              "      <td>World</td>\n",
              "      <td>29/04/2022</td>\n",
              "      <td>10644700</td>\n",
              "      <td>6068.0</td>\n",
              "      <td>43038.0</td>\n",
              "      <td>1.0</td>\n",
              "      <td>108432.586</td>\n",
              "      <td>61.812</td>\n",
              "      <td>438.408</td>\n",
              "      <td>...</td>\n",
              "      <td>NaN</td>\n",
              "      <td>NaN</td>\n",
              "      <td>NaN</td>\n",
              "      <td>98168829</td>\n",
              "      <td>32.6</td>\n",
              "      <td>7.150</td>\n",
              "      <td>4.718</td>\n",
              "      <td>1.0</td>\n",
              "      <td>45.9</td>\n",
              "      <td>85.847</td>\n",
              "    </tr>\n",
              "    <tr>\n",
              "      <th>1665</th>\n",
              "      <td>Asia</td>\n",
              "      <td>World</td>\n",
              "      <td>30/04/2022</td>\n",
              "      <td>10649809</td>\n",
              "      <td>5109.0</td>\n",
              "      <td>43041.0</td>\n",
              "      <td>3.0</td>\n",
              "      <td>108484.629</td>\n",
              "      <td>52.043</td>\n",
              "      <td>438.439</td>\n",
              "      <td>...</td>\n",
              "      <td>NaN</td>\n",
              "      <td>NaN</td>\n",
              "      <td>NaN</td>\n",
              "      <td>98168829</td>\n",
              "      <td>32.6</td>\n",
              "      <td>7.150</td>\n",
              "      <td>4.718</td>\n",
              "      <td>1.0</td>\n",
              "      <td>45.9</td>\n",
              "      <td>85.847</td>\n",
              "    </tr>\n",
              "    <tr>\n",
              "      <th>1666</th>\n",
              "      <td>Asia</td>\n",
              "      <td>World</td>\n",
              "      <td>01/05/2022</td>\n",
              "      <td>10653526</td>\n",
              "      <td>3717.0</td>\n",
              "      <td>43042.0</td>\n",
              "      <td>1.0</td>\n",
              "      <td>108522.492</td>\n",
              "      <td>37.863</td>\n",
              "      <td>438.449</td>\n",
              "      <td>...</td>\n",
              "      <td>NaN</td>\n",
              "      <td>NaN</td>\n",
              "      <td>NaN</td>\n",
              "      <td>98168829</td>\n",
              "      <td>32.6</td>\n",
              "      <td>7.150</td>\n",
              "      <td>4.718</td>\n",
              "      <td>1.0</td>\n",
              "      <td>45.9</td>\n",
              "      <td>85.847</td>\n",
              "    </tr>\n",
              "    <tr>\n",
              "      <th>1667</th>\n",
              "      <td>Asia</td>\n",
              "      <td>World</td>\n",
              "      <td>02/05/2022</td>\n",
              "      <td>10656649</td>\n",
              "      <td>3123.0</td>\n",
              "      <td>43044.0</td>\n",
              "      <td>2.0</td>\n",
              "      <td>108554.305</td>\n",
              "      <td>31.813</td>\n",
              "      <td>438.469</td>\n",
              "      <td>...</td>\n",
              "      <td>NaN</td>\n",
              "      <td>NaN</td>\n",
              "      <td>NaN</td>\n",
              "      <td>98168829</td>\n",
              "      <td>32.6</td>\n",
              "      <td>7.150</td>\n",
              "      <td>4.718</td>\n",
              "      <td>1.0</td>\n",
              "      <td>45.9</td>\n",
              "      <td>85.847</td>\n",
              "    </tr>\n",
              "  </tbody>\n",
              "</table>\n",
              "<p>1668 rows × 35 columns</p>\n",
              "</div>\n",
              "      <button class=\"colab-df-convert\" onclick=\"convertToInteractive('df-9695c2f4-5506-4b33-b8ac-3ec5fc647b85')\"\n",
              "              title=\"Convert this dataframe to an interactive table.\"\n",
              "              style=\"display:none;\">\n",
              "        \n",
              "  <svg xmlns=\"http://www.w3.org/2000/svg\" height=\"24px\"viewBox=\"0 0 24 24\"\n",
              "       width=\"24px\">\n",
              "    <path d=\"M0 0h24v24H0V0z\" fill=\"none\"/>\n",
              "    <path d=\"M18.56 5.44l.94 2.06.94-2.06 2.06-.94-2.06-.94-.94-2.06-.94 2.06-2.06.94zm-11 1L8.5 8.5l.94-2.06 2.06-.94-2.06-.94L8.5 2.5l-.94 2.06-2.06.94zm10 10l.94 2.06.94-2.06 2.06-.94-2.06-.94-.94-2.06-.94 2.06-2.06.94z\"/><path d=\"M17.41 7.96l-1.37-1.37c-.4-.4-.92-.59-1.43-.59-.52 0-1.04.2-1.43.59L10.3 9.45l-7.72 7.72c-.78.78-.78 2.05 0 2.83L4 21.41c.39.39.9.59 1.41.59.51 0 1.02-.2 1.41-.59l7.78-7.78 2.81-2.81c.8-.78.8-2.07 0-2.86zM5.41 20L4 18.59l7.72-7.72 1.47 1.35L5.41 20z\"/>\n",
              "  </svg>\n",
              "      </button>\n",
              "      \n",
              "  <style>\n",
              "    .colab-df-container {\n",
              "      display:flex;\n",
              "      flex-wrap:wrap;\n",
              "      gap: 12px;\n",
              "    }\n",
              "\n",
              "    .colab-df-convert {\n",
              "      background-color: #E8F0FE;\n",
              "      border: none;\n",
              "      border-radius: 50%;\n",
              "      cursor: pointer;\n",
              "      display: none;\n",
              "      fill: #1967D2;\n",
              "      height: 32px;\n",
              "      padding: 0 0 0 0;\n",
              "      width: 32px;\n",
              "    }\n",
              "\n",
              "    .colab-df-convert:hover {\n",
              "      background-color: #E2EBFA;\n",
              "      box-shadow: 0px 1px 2px rgba(60, 64, 67, 0.3), 0px 1px 3px 1px rgba(60, 64, 67, 0.15);\n",
              "      fill: #174EA6;\n",
              "    }\n",
              "\n",
              "    [theme=dark] .colab-df-convert {\n",
              "      background-color: #3B4455;\n",
              "      fill: #D2E3FC;\n",
              "    }\n",
              "\n",
              "    [theme=dark] .colab-df-convert:hover {\n",
              "      background-color: #434B5C;\n",
              "      box-shadow: 0px 1px 3px 1px rgba(0, 0, 0, 0.15);\n",
              "      filter: drop-shadow(0px 1px 2px rgba(0, 0, 0, 0.3));\n",
              "      fill: #FFFFFF;\n",
              "    }\n",
              "  </style>\n",
              "\n",
              "      <script>\n",
              "        const buttonEl =\n",
              "          document.querySelector('#df-9695c2f4-5506-4b33-b8ac-3ec5fc647b85 button.colab-df-convert');\n",
              "        buttonEl.style.display =\n",
              "          google.colab.kernel.accessAllowed ? 'block' : 'none';\n",
              "\n",
              "        async function convertToInteractive(key) {\n",
              "          const element = document.querySelector('#df-9695c2f4-5506-4b33-b8ac-3ec5fc647b85');\n",
              "          const dataTable =\n",
              "            await google.colab.kernel.invokeFunction('convertToInteractive',\n",
              "                                                     [key], {});\n",
              "          if (!dataTable) return;\n",
              "\n",
              "          const docLinkHtml = 'Like what you see? Visit the ' +\n",
              "            '<a target=\"_blank\" href=https://colab.research.google.com/notebooks/data_table.ipynb>data table notebook</a>'\n",
              "            + ' to learn more about interactive tables.';\n",
              "          element.innerHTML = '';\n",
              "          dataTable['output_type'] = 'display_data';\n",
              "          await google.colab.output.renderOutput(dataTable, element);\n",
              "          const docLink = document.createElement('div');\n",
              "          docLink.innerHTML = docLinkHtml;\n",
              "          element.appendChild(docLink);\n",
              "        }\n",
              "      </script>\n",
              "    </div>\n",
              "  </div>\n",
              "  "
            ]
          },
          "metadata": {}
        }
      ]
    },
    {
      "cell_type": "markdown",
      "source": [
        "> As you can see, there are NaN values inside the dataset. There are two options. Either delete them, or replace them with a new value. For this, we will replace specified columns with NaN values."
      ],
      "metadata": {
        "id": "Rx1ruAX4-LcE"
      }
    },
    {
      "cell_type": "code",
      "source": [
        "df1.fillna(0, inplace = True)\n",
        "display(df1)"
      ],
      "metadata": {
        "id": "hdQXVtwqG7oi",
        "outputId": "7d54a67e-c7ce-4655-d422-59891f4b2db2",
        "colab": {
          "base_uri": "https://localhost:8080/",
          "height": 488
        }
      },
      "execution_count": 11,
      "outputs": [
        {
          "output_type": "display_data",
          "data": {
            "text/plain": [
              "     continent     location        date  total_cases  new_cases  total_deaths  \\\n",
              "0         Asia  Philippines  30/01/2020            1        1.0           0.0   \n",
              "1         Asia  Philippines  31/01/2020            1        0.0           0.0   \n",
              "2         Asia  Philippines  01/02/2020            1        0.0           0.0   \n",
              "3         Asia  Philippines  02/02/2020            2        1.0           1.0   \n",
              "4         Asia  Philippines  03/02/2020            2        0.0           1.0   \n",
              "...        ...          ...         ...          ...        ...           ...   \n",
              "1663      Asia        World  28/04/2022     10638632     7116.0       43037.0   \n",
              "1664      Asia        World  29/04/2022     10644700     6068.0       43038.0   \n",
              "1665      Asia        World  30/04/2022     10649809     5109.0       43041.0   \n",
              "1666      Asia        World  01/05/2022     10653526     3717.0       43042.0   \n",
              "1667      Asia        World  02/05/2022     10656649     3123.0       43044.0   \n",
              "\n",
              "      new_deaths  total_cases_per_million  new_cases_per_million  \\\n",
              "0            0.0                    0.009                  0.009   \n",
              "1            0.0                    0.009                  0.000   \n",
              "2            0.0                    0.009                  0.000   \n",
              "3            1.0                    0.018                  0.009   \n",
              "4            0.0                    0.018                  0.000   \n",
              "...          ...                      ...                    ...   \n",
              "1663         3.0               108370.774                 72.487   \n",
              "1664         1.0               108432.586                 61.812   \n",
              "1665         3.0               108484.629                 52.043   \n",
              "1666         1.0               108522.492                 37.863   \n",
              "1667         2.0               108554.305                 31.813   \n",
              "\n",
              "      total_deaths_per_million  ...  people_vaccinated_per_hundred  \\\n",
              "0                        0.000  ...                            0.0   \n",
              "1                        0.000  ...                            0.0   \n",
              "2                        0.000  ...                            0.0   \n",
              "3                        0.009  ...                            0.0   \n",
              "4                        0.009  ...                            0.0   \n",
              "...                        ...  ...                            ...   \n",
              "1663                   438.398  ...                            0.0   \n",
              "1664                   438.408  ...                            0.0   \n",
              "1665                   438.439  ...                            0.0   \n",
              "1666                   438.449  ...                            0.0   \n",
              "1667                   438.469  ...                            0.0   \n",
              "\n",
              "      people_fully_vaccinated_per_hundred  total_boosters_per_hundred  \\\n",
              "0                                     0.0                         0.0   \n",
              "1                                     0.0                         0.0   \n",
              "2                                     0.0                         0.0   \n",
              "3                                     0.0                         0.0   \n",
              "4                                     0.0                         0.0   \n",
              "...                                   ...                         ...   \n",
              "1663                                  0.0                         0.0   \n",
              "1664                                  0.0                         0.0   \n",
              "1665                                  0.0                         0.0   \n",
              "1666                                  0.0                         0.0   \n",
              "1667                                  0.0                         0.0   \n",
              "\n",
              "      population  median_age  aged_65_older  aged_70_older  female_smokers  \\\n",
              "0      111046910        25.2          4.803          2.661             7.8   \n",
              "1      111046910        25.2          4.803          2.661             7.8   \n",
              "2      111046910        25.2          4.803          2.661             7.8   \n",
              "3      111046910        25.2          4.803          2.661             7.8   \n",
              "4      111046910        25.2          4.803          2.661             7.8   \n",
              "...          ...         ...            ...            ...             ...   \n",
              "1663    98168829        32.6          7.150          4.718             1.0   \n",
              "1664    98168829        32.6          7.150          4.718             1.0   \n",
              "1665    98168829        32.6          7.150          4.718             1.0   \n",
              "1666    98168829        32.6          7.150          4.718             1.0   \n",
              "1667    98168829        32.6          7.150          4.718             1.0   \n",
              "\n",
              "     male_smokers  handwashing_facilities  \n",
              "0            40.8                  78.463  \n",
              "1            40.8                  78.463  \n",
              "2            40.8                  78.463  \n",
              "3            40.8                  78.463  \n",
              "4            40.8                  78.463  \n",
              "...           ...                     ...  \n",
              "1663         45.9                  85.847  \n",
              "1664         45.9                  85.847  \n",
              "1665         45.9                  85.847  \n",
              "1666         45.9                  85.847  \n",
              "1667         45.9                  85.847  \n",
              "\n",
              "[1668 rows x 35 columns]"
            ],
            "text/html": [
              "\n",
              "  <div id=\"df-8623f1db-794c-4768-bb24-e129d33d8e45\">\n",
              "    <div class=\"colab-df-container\">\n",
              "      <div>\n",
              "<style scoped>\n",
              "    .dataframe tbody tr th:only-of-type {\n",
              "        vertical-align: middle;\n",
              "    }\n",
              "\n",
              "    .dataframe tbody tr th {\n",
              "        vertical-align: top;\n",
              "    }\n",
              "\n",
              "    .dataframe thead th {\n",
              "        text-align: right;\n",
              "    }\n",
              "</style>\n",
              "<table border=\"1\" class=\"dataframe\">\n",
              "  <thead>\n",
              "    <tr style=\"text-align: right;\">\n",
              "      <th></th>\n",
              "      <th>continent</th>\n",
              "      <th>location</th>\n",
              "      <th>date</th>\n",
              "      <th>total_cases</th>\n",
              "      <th>new_cases</th>\n",
              "      <th>total_deaths</th>\n",
              "      <th>new_deaths</th>\n",
              "      <th>total_cases_per_million</th>\n",
              "      <th>new_cases_per_million</th>\n",
              "      <th>total_deaths_per_million</th>\n",
              "      <th>...</th>\n",
              "      <th>people_vaccinated_per_hundred</th>\n",
              "      <th>people_fully_vaccinated_per_hundred</th>\n",
              "      <th>total_boosters_per_hundred</th>\n",
              "      <th>population</th>\n",
              "      <th>median_age</th>\n",
              "      <th>aged_65_older</th>\n",
              "      <th>aged_70_older</th>\n",
              "      <th>female_smokers</th>\n",
              "      <th>male_smokers</th>\n",
              "      <th>handwashing_facilities</th>\n",
              "    </tr>\n",
              "  </thead>\n",
              "  <tbody>\n",
              "    <tr>\n",
              "      <th>0</th>\n",
              "      <td>Asia</td>\n",
              "      <td>Philippines</td>\n",
              "      <td>30/01/2020</td>\n",
              "      <td>1</td>\n",
              "      <td>1.0</td>\n",
              "      <td>0.0</td>\n",
              "      <td>0.0</td>\n",
              "      <td>0.009</td>\n",
              "      <td>0.009</td>\n",
              "      <td>0.000</td>\n",
              "      <td>...</td>\n",
              "      <td>0.0</td>\n",
              "      <td>0.0</td>\n",
              "      <td>0.0</td>\n",
              "      <td>111046910</td>\n",
              "      <td>25.2</td>\n",
              "      <td>4.803</td>\n",
              "      <td>2.661</td>\n",
              "      <td>7.8</td>\n",
              "      <td>40.8</td>\n",
              "      <td>78.463</td>\n",
              "    </tr>\n",
              "    <tr>\n",
              "      <th>1</th>\n",
              "      <td>Asia</td>\n",
              "      <td>Philippines</td>\n",
              "      <td>31/01/2020</td>\n",
              "      <td>1</td>\n",
              "      <td>0.0</td>\n",
              "      <td>0.0</td>\n",
              "      <td>0.0</td>\n",
              "      <td>0.009</td>\n",
              "      <td>0.000</td>\n",
              "      <td>0.000</td>\n",
              "      <td>...</td>\n",
              "      <td>0.0</td>\n",
              "      <td>0.0</td>\n",
              "      <td>0.0</td>\n",
              "      <td>111046910</td>\n",
              "      <td>25.2</td>\n",
              "      <td>4.803</td>\n",
              "      <td>2.661</td>\n",
              "      <td>7.8</td>\n",
              "      <td>40.8</td>\n",
              "      <td>78.463</td>\n",
              "    </tr>\n",
              "    <tr>\n",
              "      <th>2</th>\n",
              "      <td>Asia</td>\n",
              "      <td>Philippines</td>\n",
              "      <td>01/02/2020</td>\n",
              "      <td>1</td>\n",
              "      <td>0.0</td>\n",
              "      <td>0.0</td>\n",
              "      <td>0.0</td>\n",
              "      <td>0.009</td>\n",
              "      <td>0.000</td>\n",
              "      <td>0.000</td>\n",
              "      <td>...</td>\n",
              "      <td>0.0</td>\n",
              "      <td>0.0</td>\n",
              "      <td>0.0</td>\n",
              "      <td>111046910</td>\n",
              "      <td>25.2</td>\n",
              "      <td>4.803</td>\n",
              "      <td>2.661</td>\n",
              "      <td>7.8</td>\n",
              "      <td>40.8</td>\n",
              "      <td>78.463</td>\n",
              "    </tr>\n",
              "    <tr>\n",
              "      <th>3</th>\n",
              "      <td>Asia</td>\n",
              "      <td>Philippines</td>\n",
              "      <td>02/02/2020</td>\n",
              "      <td>2</td>\n",
              "      <td>1.0</td>\n",
              "      <td>1.0</td>\n",
              "      <td>1.0</td>\n",
              "      <td>0.018</td>\n",
              "      <td>0.009</td>\n",
              "      <td>0.009</td>\n",
              "      <td>...</td>\n",
              "      <td>0.0</td>\n",
              "      <td>0.0</td>\n",
              "      <td>0.0</td>\n",
              "      <td>111046910</td>\n",
              "      <td>25.2</td>\n",
              "      <td>4.803</td>\n",
              "      <td>2.661</td>\n",
              "      <td>7.8</td>\n",
              "      <td>40.8</td>\n",
              "      <td>78.463</td>\n",
              "    </tr>\n",
              "    <tr>\n",
              "      <th>4</th>\n",
              "      <td>Asia</td>\n",
              "      <td>Philippines</td>\n",
              "      <td>03/02/2020</td>\n",
              "      <td>2</td>\n",
              "      <td>0.0</td>\n",
              "      <td>1.0</td>\n",
              "      <td>0.0</td>\n",
              "      <td>0.018</td>\n",
              "      <td>0.000</td>\n",
              "      <td>0.009</td>\n",
              "      <td>...</td>\n",
              "      <td>0.0</td>\n",
              "      <td>0.0</td>\n",
              "      <td>0.0</td>\n",
              "      <td>111046910</td>\n",
              "      <td>25.2</td>\n",
              "      <td>4.803</td>\n",
              "      <td>2.661</td>\n",
              "      <td>7.8</td>\n",
              "      <td>40.8</td>\n",
              "      <td>78.463</td>\n",
              "    </tr>\n",
              "    <tr>\n",
              "      <th>...</th>\n",
              "      <td>...</td>\n",
              "      <td>...</td>\n",
              "      <td>...</td>\n",
              "      <td>...</td>\n",
              "      <td>...</td>\n",
              "      <td>...</td>\n",
              "      <td>...</td>\n",
              "      <td>...</td>\n",
              "      <td>...</td>\n",
              "      <td>...</td>\n",
              "      <td>...</td>\n",
              "      <td>...</td>\n",
              "      <td>...</td>\n",
              "      <td>...</td>\n",
              "      <td>...</td>\n",
              "      <td>...</td>\n",
              "      <td>...</td>\n",
              "      <td>...</td>\n",
              "      <td>...</td>\n",
              "      <td>...</td>\n",
              "      <td>...</td>\n",
              "    </tr>\n",
              "    <tr>\n",
              "      <th>1663</th>\n",
              "      <td>Asia</td>\n",
              "      <td>World</td>\n",
              "      <td>28/04/2022</td>\n",
              "      <td>10638632</td>\n",
              "      <td>7116.0</td>\n",
              "      <td>43037.0</td>\n",
              "      <td>3.0</td>\n",
              "      <td>108370.774</td>\n",
              "      <td>72.487</td>\n",
              "      <td>438.398</td>\n",
              "      <td>...</td>\n",
              "      <td>0.0</td>\n",
              "      <td>0.0</td>\n",
              "      <td>0.0</td>\n",
              "      <td>98168829</td>\n",
              "      <td>32.6</td>\n",
              "      <td>7.150</td>\n",
              "      <td>4.718</td>\n",
              "      <td>1.0</td>\n",
              "      <td>45.9</td>\n",
              "      <td>85.847</td>\n",
              "    </tr>\n",
              "    <tr>\n",
              "      <th>1664</th>\n",
              "      <td>Asia</td>\n",
              "      <td>World</td>\n",
              "      <td>29/04/2022</td>\n",
              "      <td>10644700</td>\n",
              "      <td>6068.0</td>\n",
              "      <td>43038.0</td>\n",
              "      <td>1.0</td>\n",
              "      <td>108432.586</td>\n",
              "      <td>61.812</td>\n",
              "      <td>438.408</td>\n",
              "      <td>...</td>\n",
              "      <td>0.0</td>\n",
              "      <td>0.0</td>\n",
              "      <td>0.0</td>\n",
              "      <td>98168829</td>\n",
              "      <td>32.6</td>\n",
              "      <td>7.150</td>\n",
              "      <td>4.718</td>\n",
              "      <td>1.0</td>\n",
              "      <td>45.9</td>\n",
              "      <td>85.847</td>\n",
              "    </tr>\n",
              "    <tr>\n",
              "      <th>1665</th>\n",
              "      <td>Asia</td>\n",
              "      <td>World</td>\n",
              "      <td>30/04/2022</td>\n",
              "      <td>10649809</td>\n",
              "      <td>5109.0</td>\n",
              "      <td>43041.0</td>\n",
              "      <td>3.0</td>\n",
              "      <td>108484.629</td>\n",
              "      <td>52.043</td>\n",
              "      <td>438.439</td>\n",
              "      <td>...</td>\n",
              "      <td>0.0</td>\n",
              "      <td>0.0</td>\n",
              "      <td>0.0</td>\n",
              "      <td>98168829</td>\n",
              "      <td>32.6</td>\n",
              "      <td>7.150</td>\n",
              "      <td>4.718</td>\n",
              "      <td>1.0</td>\n",
              "      <td>45.9</td>\n",
              "      <td>85.847</td>\n",
              "    </tr>\n",
              "    <tr>\n",
              "      <th>1666</th>\n",
              "      <td>Asia</td>\n",
              "      <td>World</td>\n",
              "      <td>01/05/2022</td>\n",
              "      <td>10653526</td>\n",
              "      <td>3717.0</td>\n",
              "      <td>43042.0</td>\n",
              "      <td>1.0</td>\n",
              "      <td>108522.492</td>\n",
              "      <td>37.863</td>\n",
              "      <td>438.449</td>\n",
              "      <td>...</td>\n",
              "      <td>0.0</td>\n",
              "      <td>0.0</td>\n",
              "      <td>0.0</td>\n",
              "      <td>98168829</td>\n",
              "      <td>32.6</td>\n",
              "      <td>7.150</td>\n",
              "      <td>4.718</td>\n",
              "      <td>1.0</td>\n",
              "      <td>45.9</td>\n",
              "      <td>85.847</td>\n",
              "    </tr>\n",
              "    <tr>\n",
              "      <th>1667</th>\n",
              "      <td>Asia</td>\n",
              "      <td>World</td>\n",
              "      <td>02/05/2022</td>\n",
              "      <td>10656649</td>\n",
              "      <td>3123.0</td>\n",
              "      <td>43044.0</td>\n",
              "      <td>2.0</td>\n",
              "      <td>108554.305</td>\n",
              "      <td>31.813</td>\n",
              "      <td>438.469</td>\n",
              "      <td>...</td>\n",
              "      <td>0.0</td>\n",
              "      <td>0.0</td>\n",
              "      <td>0.0</td>\n",
              "      <td>98168829</td>\n",
              "      <td>32.6</td>\n",
              "      <td>7.150</td>\n",
              "      <td>4.718</td>\n",
              "      <td>1.0</td>\n",
              "      <td>45.9</td>\n",
              "      <td>85.847</td>\n",
              "    </tr>\n",
              "  </tbody>\n",
              "</table>\n",
              "<p>1668 rows × 35 columns</p>\n",
              "</div>\n",
              "      <button class=\"colab-df-convert\" onclick=\"convertToInteractive('df-8623f1db-794c-4768-bb24-e129d33d8e45')\"\n",
              "              title=\"Convert this dataframe to an interactive table.\"\n",
              "              style=\"display:none;\">\n",
              "        \n",
              "  <svg xmlns=\"http://www.w3.org/2000/svg\" height=\"24px\"viewBox=\"0 0 24 24\"\n",
              "       width=\"24px\">\n",
              "    <path d=\"M0 0h24v24H0V0z\" fill=\"none\"/>\n",
              "    <path d=\"M18.56 5.44l.94 2.06.94-2.06 2.06-.94-2.06-.94-.94-2.06-.94 2.06-2.06.94zm-11 1L8.5 8.5l.94-2.06 2.06-.94-2.06-.94L8.5 2.5l-.94 2.06-2.06.94zm10 10l.94 2.06.94-2.06 2.06-.94-2.06-.94-.94-2.06-.94 2.06-2.06.94z\"/><path d=\"M17.41 7.96l-1.37-1.37c-.4-.4-.92-.59-1.43-.59-.52 0-1.04.2-1.43.59L10.3 9.45l-7.72 7.72c-.78.78-.78 2.05 0 2.83L4 21.41c.39.39.9.59 1.41.59.51 0 1.02-.2 1.41-.59l7.78-7.78 2.81-2.81c.8-.78.8-2.07 0-2.86zM5.41 20L4 18.59l7.72-7.72 1.47 1.35L5.41 20z\"/>\n",
              "  </svg>\n",
              "      </button>\n",
              "      \n",
              "  <style>\n",
              "    .colab-df-container {\n",
              "      display:flex;\n",
              "      flex-wrap:wrap;\n",
              "      gap: 12px;\n",
              "    }\n",
              "\n",
              "    .colab-df-convert {\n",
              "      background-color: #E8F0FE;\n",
              "      border: none;\n",
              "      border-radius: 50%;\n",
              "      cursor: pointer;\n",
              "      display: none;\n",
              "      fill: #1967D2;\n",
              "      height: 32px;\n",
              "      padding: 0 0 0 0;\n",
              "      width: 32px;\n",
              "    }\n",
              "\n",
              "    .colab-df-convert:hover {\n",
              "      background-color: #E2EBFA;\n",
              "      box-shadow: 0px 1px 2px rgba(60, 64, 67, 0.3), 0px 1px 3px 1px rgba(60, 64, 67, 0.15);\n",
              "      fill: #174EA6;\n",
              "    }\n",
              "\n",
              "    [theme=dark] .colab-df-convert {\n",
              "      background-color: #3B4455;\n",
              "      fill: #D2E3FC;\n",
              "    }\n",
              "\n",
              "    [theme=dark] .colab-df-convert:hover {\n",
              "      background-color: #434B5C;\n",
              "      box-shadow: 0px 1px 3px 1px rgba(0, 0, 0, 0.15);\n",
              "      filter: drop-shadow(0px 1px 2px rgba(0, 0, 0, 0.3));\n",
              "      fill: #FFFFFF;\n",
              "    }\n",
              "  </style>\n",
              "\n",
              "      <script>\n",
              "        const buttonEl =\n",
              "          document.querySelector('#df-8623f1db-794c-4768-bb24-e129d33d8e45 button.colab-df-convert');\n",
              "        buttonEl.style.display =\n",
              "          google.colab.kernel.accessAllowed ? 'block' : 'none';\n",
              "\n",
              "        async function convertToInteractive(key) {\n",
              "          const element = document.querySelector('#df-8623f1db-794c-4768-bb24-e129d33d8e45');\n",
              "          const dataTable =\n",
              "            await google.colab.kernel.invokeFunction('convertToInteractive',\n",
              "                                                     [key], {});\n",
              "          if (!dataTable) return;\n",
              "\n",
              "          const docLinkHtml = 'Like what you see? Visit the ' +\n",
              "            '<a target=\"_blank\" href=https://colab.research.google.com/notebooks/data_table.ipynb>data table notebook</a>'\n",
              "            + ' to learn more about interactive tables.';\n",
              "          element.innerHTML = '';\n",
              "          dataTable['output_type'] = 'display_data';\n",
              "          await google.colab.output.renderOutput(dataTable, element);\n",
              "          const docLink = document.createElement('div');\n",
              "          docLink.innerHTML = docLinkHtml;\n",
              "          element.appendChild(docLink);\n",
              "        }\n",
              "      </script>\n",
              "    </div>\n",
              "  </div>\n",
              "  "
            ]
          },
          "metadata": {}
        }
      ]
    },
    {
      "cell_type": "markdown",
      "source": [
        "> Now that we're done cleaning the dataset, we can now move on to visualizing the data."
      ],
      "metadata": {
        "id": "-54K97uyHCKw"
      }
    },
    {
      "cell_type": "markdown",
      "source": [
        "# PART 3 : VISUALIZATIONS"
      ],
      "metadata": {
        "id": "P2ui5tD-Itwq"
      }
    },
    {
      "cell_type": "markdown",
      "source": [
        "> First, let's import the Matplotlib Pyplot library."
      ],
      "metadata": {
        "id": "9XKWF0j3HFbe"
      }
    },
    {
      "cell_type": "code",
      "source": [
        "import matplotlib.pyplot as plt"
      ],
      "metadata": {
        "id": "yr23RnaWHK49"
      },
      "execution_count": 12,
      "outputs": []
    },
    {
      "cell_type": "markdown",
      "source": [
        "> Now, let's make the visualizations needed in the analysis."
      ],
      "metadata": {
        "id": "Xr1QBHbU1MzN"
      }
    },
    {
      "cell_type": "markdown",
      "source": [
        "> First, let's view the daily cases of COVID-19 in the Philippines."
      ],
      "metadata": {
        "id": "hqN-bLMm1R1M"
      }
    },
    {
      "cell_type": "code",
      "source": [
        "ph_ver = df1.loc[df1['location'] == 'Philippines']\n",
        "\n",
        "ph_newcases = np.array(ph_ver['new_cases'])\n",
        "\n",
        "plt.plot(ph_newcases, c='#063c72')\n",
        "plt.title(\"DAILY NEW CASES REPORTED IN PHILIPPINES\")\n",
        "plt.xlabel(\"Days\")\n",
        "plt.ylabel(\"Number of Cases\")\n",
        "\n",
        "plt.show()"
      ],
      "metadata": {
        "id": "ONPhGYyN1VwA",
        "outputId": "61bc132a-ceae-44f6-8a47-28c450754cb0",
        "colab": {
          "base_uri": "https://localhost:8080/",
          "height": 295
        }
      },
      "execution_count": 13,
      "outputs": [
        {
          "output_type": "display_data",
          "data": {
            "text/plain": [
              "<Figure size 432x288 with 1 Axes>"
            ],
            "image/png": "[encoded data removed]"
          },
          "metadata": {
            "needs_background": "light"
          }
        }
      ]
    },
    {
      "cell_type": "markdown",
      "source": [
        "As seen on the figure, the reported daily new cases tends to suddenly rise out of nowhere. The surge even went up to almost 40,000 cases between the 600th and 800th day. As of now, we are experiencing low numbers with regards to the daily reported cases but we'll never know if it'll rise again and record even higher than the current top reported number of cases."
      ],
      "metadata": {
        "id": "BumYY0ZXk51y"
      }
    },
    {
      "cell_type": "markdown",
      "source": [
        "> Now, let's view the daily cases in the world."
      ],
      "metadata": {
        "id": "EoS5nrxy1b6p"
      }
    },
    {
      "cell_type": "code",
      "source": [
        "world_ver = df1.loc[df1['location'] == 'World']\n",
        "\n",
        "world_newcases = np.array(world_ver['new_cases'])\n",
        "\n",
        "plt.plot(world_newcases, c='#063c72')\n",
        "plt.title(\"DAILY NEW CASES REPORTED IN THE WORLD\")\n",
        "plt.xlabel(\"Days\")\n",
        "plt.ylabel(\"Number of Cases\")\n",
        "\n",
        "plt.show()"
      ],
      "metadata": {
        "colab": {
          "base_uri": "https://localhost:8080/",
          "height": 295
        },
        "id": "_R86DHu0irsN",
        "outputId": "226e72ab-b039-4008-c02b-29f710348fe9"
      },
      "execution_count": 14,
      "outputs": [
        {
          "output_type": "display_data",
          "data": {
            "text/plain": [
              "<Figure size 432x288 with 1 Axes>"
            ],
            "image/png": "[encoded data removed]"
          },
          "metadata": {
            "needs_background": "light"
          }
        }
      ]
    },
    {
      "cell_type": "markdown",
      "source": [
        "In this case, the world even recorded much higher cases. In this case, the surge happened recently near the 800th day."
      ],
      "metadata": {
        "id": "A0ekkJGrk95B"
      }
    },
    {
      "cell_type": "markdown",
      "source": [
        "> Now, let's compare the two."
      ],
      "metadata": {
        "id": "nTSk3wUykOqb"
      }
    },
    {
      "cell_type": "code",
      "source": [
        "ph_newcases = np.array(ph_ver['new_cases'])\n",
        "world_newcases = np.array(world_ver['new_cases'])\n",
        "\n",
        "plt.plot(ph_newcases, c='#063c72', label='PH Cases')\n",
        "plt.plot(world_newcases, c='#e9311a', label='World Cases')\n",
        "plt.title(\"COMPARING NEW CASES\")\n",
        "plt.xlabel(\"Days\")\n",
        "plt.ylabel(\"Number of Cases\")\n",
        "plt.legend()\n",
        "\n",
        "plt.show()"
      ],
      "metadata": {
        "id": "kHBNXhH_LXeP",
        "outputId": "6486e89d-10f3-4b31-ca3d-d18536af5194",
        "colab": {
          "base_uri": "https://localhost:8080/",
          "height": 295
        }
      },
      "execution_count": 15,
      "outputs": [
        {
          "output_type": "display_data",
          "data": {
            "text/plain": [
              "<Figure size 432x288 with 1 Axes>"
            ],
            "image/png": "[encoded data removed]"
          },
          "metadata": {
            "needs_background": "light"
          }
        }
      ]
    },
    {
      "cell_type": "markdown",
      "source": [
        "This comparison shows how the reported PH cases contribute to the recorded world cases. It is really far by the numbers which is expected knowing that the world cases is composed of a lot of countries."
      ],
      "metadata": {
        "id": "ew2bAL_wlD02"
      }
    },
    {
      "cell_type": "markdown",
      "source": [
        "> Now that we're done looking at the daily cases in the Philippines and the world, we can now analyze the number of deaths."
      ],
      "metadata": {
        "id": "WUV3H6UUx0h_"
      }
    },
    {
      "cell_type": "code",
      "source": [
        "ph_newdeaths = np.array(ph_ver['new_deaths'])\n",
        "\n",
        "plt.plot(ph_newdeaths, c='#063c72')\n",
        "plt.title(\"DAILY NEW DEATHS REPORTED IN PHILIPPINES\")\n",
        "plt.xlabel(\"Days\")\n",
        "plt.ylabel(\"Number of Deaths\")\n",
        "\n",
        "plt.show()"
      ],
      "metadata": {
        "id": "YmAbVyHJcXem",
        "outputId": "81364e5e-43b5-4013-afdc-7e3dbe483b72",
        "colab": {
          "base_uri": "https://localhost:8080/",
          "height": 295
        }
      },
      "execution_count": 16,
      "outputs": [
        {
          "output_type": "display_data",
          "data": {
            "text/plain": [
              "<Figure size 432x288 with 1 Axes>"
            ],
            "image/png": "[encoded data removed]"
          },
          "metadata": {
            "needs_background": "light"
          }
        }
      ]
    },
    {
      "cell_type": "markdown",
      "source": [
        "The data shows the reported death cases in the Philippines and had a surge in its day-to-day basis documentation. The first surge was at almost 200 number of deaths due to at 400-day of Covid-19 in the Philippines and the surge went down in the next 200 days, as well. The highest number of deaths ranged up to almost 500 deaths at the 600th day. "
      ],
      "metadata": {
        "id": "cwTWRiZvrYHH"
      }
    },
    {
      "cell_type": "markdown",
      "source": [
        "> Next, let's analyze the positive rate of the Philippines."
      ],
      "metadata": {
        "id": "Majis31j7d8D"
      }
    },
    {
      "cell_type": "code",
      "source": [
        "ph_positiverate = np.array(ph_ver['positive_rate'])\n",
        "\n",
        "plt.plot(ph_positiverate, c='#063c72')\n",
        "plt.title(\"POSITIVE RATE OF THE PHILIPPINES\")\n",
        "plt.xlabel(\"Days\")\n",
        "plt.ylabel(\"Positive Rate\")\n",
        "\n",
        "plt.show()"
      ],
      "metadata": {
        "id": "a2gHS-HxLhzi",
        "outputId": "96866822-2930-4061-c1e8-e00ee583e10f",
        "colab": {
          "base_uri": "https://localhost:8080/",
          "height": 295
        }
      },
      "execution_count": 17,
      "outputs": [
        {
          "output_type": "display_data",
          "data": {
            "text/plain": [
              "<Figure size 432x288 with 1 Axes>"
            ],
            "image/png": "[encoded data removed]"
          },
          "metadata": {
            "needs_background": "light"
          }
        }
      ]
    },
    {
      "cell_type": "markdown",
      "source": [
        "This plot shows the positive rate here in our country. If you'll remember the visualization from earlier, we can see that the positive rate has almost the same graph as earlier which is already expected knowing that it is connected to the graph from earlier."
      ],
      "metadata": {
        "id": "SYjqyJnMlIWU"
      }
    },
    {
      "cell_type": "markdown",
      "source": [
        "> We can now move on to analyzing the vaccinations in the Philippines."
      ],
      "metadata": {
        "id": "hV5ginBlSUH0"
      }
    },
    {
      "cell_type": "code",
      "source": [
        "doses = np.array([\"First Dose\", \"First and Second Dose\", \"Booster Dose\"])\n",
        "values = np.array([66487924, 70647562, 13940560])\n",
        "\n",
        "fig, ax = plt.subplots()\n",
        "side1 = ax.spines[\"top\"]\n",
        "side1.set_visible(False)\n",
        "side2 = ax.spines[\"right\"]\n",
        "side2.set_visible(False)\n",
        "\n",
        "plt.ticklabel_format(style='plain')\n",
        "plt.locator_params(nbins=4)\n",
        "c = ['#8db4ad', '#026c80', '#064c72']\n",
        "plt.barh(doses, values, color = c)\n",
        "\n",
        "for index, value in enumerate(values):\n",
        "  plt.text(value, index, str(value))\n",
        "\n",
        "plt.title(\"VACCINATION IN PHILIPPINES\")\n",
        "plt.xlabel(\"Number of Doses\")\n",
        "plt.show()"
      ],
      "metadata": {
        "id": "-4F0D4HdLlcj",
        "outputId": "ea1f5bb4-240f-4a96-f3ec-7db9e82b4168",
        "colab": {
          "base_uri": "https://localhost:8080/",
          "height": 295
        }
      },
      "execution_count": 18,
      "outputs": [
        {
          "output_type": "display_data",
          "data": {
            "text/plain": [
              "<Figure size 432x288 with 1 Axes>"
            ],
            "image/png": "[encoded data removed]"
          },
          "metadata": {
            "needs_background": "light"
          }
        }
      ]
    },
    {
      "cell_type": "markdown",
      "source": [
        "Looking at this graph, you can see the number of doses administered here in our country, the Philippines. The values here are from the DOH Dashboard as of 9:30 PM of May 26. "
      ],
      "metadata": {
        "id": "Y8S_fobhlYH0"
      }
    },
    {
      "cell_type": "markdown",
      "source": [
        "> Now, let's check the percentage of people vaccinated."
      ],
      "metadata": {
        "id": "KF3YzZaZLBUc"
      }
    },
    {
      "cell_type": "code",
      "source": [
        "fulldose_value = np.array([63, 37])\n",
        "label = [\"Fully Vaccinated\", \"No Vaccine or First Dose only\"]\n",
        "dataexplode = [0.05,0]\n",
        "c = ['#8db4ad', '#026c80']\n",
        "\n",
        "plt.pie(fulldose_value, labels = label, explode = dataexplode, colors = c, startangle=90)\n",
        "plt.title(\"FULL DOSE VACCINATED IN PHILIPPINES\")\n",
        "\n",
        "plt.show()"
      ],
      "metadata": {
        "id": "Z6Tqp71PLoB8",
        "outputId": "885b594b-4e25-4385-f2fb-db9c1d1d651f",
        "colab": {
          "base_uri": "https://localhost:8080/",
          "height": 264
        }
      },
      "execution_count": 19,
      "outputs": [
        {
          "output_type": "display_data",
          "data": {
            "text/plain": [
              "<Figure size 432x288 with 1 Axes>"
            ],
            "image/png": "[encoded data removed]"
          },
          "metadata": {}
        }
      ]
    },
    {
      "cell_type": "markdown",
      "source": [
        "As seen on the figure, only 63% of individuals are fully vaccinated. And based on the goal of our country which is 80%, we are still 17% away from reaching our goal."
      ],
      "metadata": {
        "id": "rss8JXU8lmso"
      }
    },
    {
      "cell_type": "code",
      "source": [
        "firstdose_value = np.array([59, 41])\n",
        "label = [\"First Dose\", \"No Vaccine\"]\n",
        "dataexplode = [0.05,0]\n",
        "c = ['#8db4ad', '#026c80']\n",
        "\n",
        "plt.pie(firstdose_value, labels = label, explode = dataexplode, colors = c, startangle=90)\n",
        "plt.title(\"VACCINATED WITH FIRST DOSE IN PHILIPPINES\")\n",
        "\n",
        "plt.show()"
      ],
      "metadata": {
        "id": "3nSYvFKLLosn",
        "outputId": "e16d27f5-2605-4321-d15f-c02444dd87cb",
        "colab": {
          "base_uri": "https://localhost:8080/",
          "height": 264
        }
      },
      "execution_count": 20,
      "outputs": [
        {
          "output_type": "display_data",
          "data": {
            "text/plain": [
              "<Figure size 432x288 with 1 Axes>"
            ],
            "image/png": "[encoded data removed]"
          },
          "metadata": {}
        }
      ]
    },
    {
      "cell_type": "markdown",
      "source": [
        "In this figure, at least 59% of people have received their first dose. "
      ],
      "metadata": {
        "id": "iwftly_jls25"
      }
    },
    {
      "cell_type": "code",
      "source": [
        "booster = np.array([12, 88])\n",
        "label = [\"Booster\", \"No Booster Shot\"]\n",
        "dataexplode = [0.05,0]\n",
        "c = ['#8db4ad', '#026c80']\n",
        "\n",
        "plt.pie(booster, labels = label, explode = dataexplode, colors = c, startangle=90)\n",
        "plt.title(\"VACCINATED WITH BOOSTER IN PHILIPPINES\")\n",
        "\n",
        "plt.show()"
      ],
      "metadata": {
        "id": "aeJ96DWPLptq",
        "outputId": "6de437ca-dd26-4090-deeb-6d671b52190d",
        "colab": {
          "base_uri": "https://localhost:8080/",
          "height": 264
        }
      },
      "execution_count": 21,
      "outputs": [
        {
          "output_type": "display_data",
          "data": {
            "text/plain": [
              "<Figure size 432x288 with 1 Axes>"
            ],
            "image/png": "[encoded data removed]"
          },
          "metadata": {}
        }
      ]
    },
    {
      "cell_type": "markdown",
      "source": [
        "Meanwhile, only 12% of individuals have received their booster shots."
      ],
      "metadata": {
        "id": "PmxggvlUlyDM"
      }
    },
    {
      "cell_type": "markdown",
      "source": [
        "> Here are more detailed visualization of the vaccinations here in the Philippines."
      ],
      "metadata": {
        "id": "bJ4A-GbaLGhu"
      }
    },
    {
      "cell_type": "code",
      "source": [
        "ph_newvaxx = np.array(ph_ver['new_vaccinations'])\n",
        "\n",
        "plt.ticklabel_format(style='plain')\n",
        "plt.plot(ph_newvaxx, c='#063c72')\n",
        "plt.title(\"DAILY VACCINATIONS IN THE PHILIPPINES\")\n",
        "plt.xlabel(\"Days\")\n",
        "plt.ylabel(\"Number of People Vaccinated\")\n",
        "\n",
        "plt.show()"
      ],
      "metadata": {
        "id": "dy2e6bazTTv9",
        "outputId": "e27d64f5-136f-4596-cb22-4ff9bafa0678",
        "colab": {
          "base_uri": "https://localhost:8080/",
          "height": 295
        }
      },
      "execution_count": 22,
      "outputs": [
        {
          "output_type": "display_data",
          "data": {
            "text/plain": [
              "<Figure size 432x288 with 1 Axes>"
            ],
            "image/png": "[encoded data removed]"
          },
          "metadata": {
            "needs_background": "light"
          }
        }
      ]
    },
    {
      "cell_type": "markdown",
      "source": [
        "The figure above shows the trend of the daily vaccinations in the Philippines in an 800-day span. First, it went on for 400 days without any vaccinations and started off with low numbers. It had a surge right before the 600-day period. Then, it reached its peak with a little above 2,500,000 around the 700-day period. We can see that since it started at around the 400-day period, it has gradually progressed around the 700th day period."
      ],
      "metadata": {
        "id": "sdSAP2ujltGi"
      }
    },
    {
      "cell_type": "code",
      "source": [
        "ph_pplvaxx = np.array(ph_ver['people_vaccinated'])\n",
        "\n",
        "plt.ticklabel_format(style='plain')\n",
        "plt.plot(ph_pplvaxx, c='#063c72')\n",
        "plt.title(\"PEOPLE VACCINATED IN THE PHILIPPINES\")\n",
        "plt.xlabel(\"Days\")\n",
        "plt.ylabel(\"Number of People Vaccinated\")\n",
        "\n",
        "plt.show()"
      ],
      "metadata": {
        "id": "u0JhsEmPiqui",
        "outputId": "dc7da574-867d-4716-b0f4-51ab08d5258e",
        "colab": {
          "base_uri": "https://localhost:8080/",
          "height": 295
        }
      },
      "execution_count": 23,
      "outputs": [
        {
          "output_type": "display_data",
          "data": {
            "text/plain": [
              "<Figure size 432x288 with 1 Axes>"
            ],
            "image/png": "[encoded data removed]"
          },
          "metadata": {
            "needs_background": "light"
          }
        }
      ]
    },
    {
      "cell_type": "markdown",
      "source": [
        "As seen on this figure,there are some inconsistencies regarding the number of people vaccinated. It can either be inconsistency from the dataset or from the records received by the organization."
      ],
      "metadata": {
        "id": "InZToM8Pl8Rc"
      }
    },
    {
      "cell_type": "code",
      "source": [
        "ph_fullyvaxx = np.array(ph_ver['people_fully_vaccinated'])\n",
        "\n",
        "plt.ticklabel_format(style='plain')\n",
        "plt.plot(ph_fullyvaxx, c='#063c72')\n",
        "plt.title(\"PEOPLE FULLY VACCINATED IN THE PHILIPPINES\")\n",
        "plt.xlabel(\"Days\")\n",
        "plt.ylabel(\"Number of People Vaccinated\")\n",
        "\n",
        "plt.show()"
      ],
      "metadata": {
        "id": "xyRJpCMcGGos",
        "outputId": "60a3b4fb-148e-4fb6-962c-0c92fc795cb8",
        "colab": {
          "base_uri": "https://localhost:8080/",
          "height": 295
        }
      },
      "execution_count": 24,
      "outputs": [
        {
          "output_type": "display_data",
          "data": {
            "text/plain": [
              "<Figure size 432x288 with 1 Axes>"
            ],
            "image/png": "[encoded data removed]"
          },
          "metadata": {
            "needs_background": "light"
          }
        }
      ]
    },
    {
      "cell_type": "markdown",
      "source": [
        "As seen on this plot, there is a constant rise on the amount of individuals fully vaccinated in our country. "
      ],
      "metadata": {
        "id": "jBV1vBYdmAO2"
      }
    },
    {
      "cell_type": "code",
      "source": [
        "ph_booster = np.array(ph_ver['total_boosters'])\n",
        "\n",
        "plt.ticklabel_format(style='plain')\n",
        "plt.plot(ph_booster, c='#063c72')\n",
        "plt.title(\"PEOPLE FULLY VACCINATED WITH BOOSTERS IN THE PHILIPPINES\")\n",
        "plt.xlabel(\"Days\")\n",
        "plt.ylabel(\"Number of People Vaccinated\")\n",
        "\n",
        "plt.show()"
      ],
      "metadata": {
        "id": "SuFkNGVrw8kp",
        "outputId": "85b67bb4-bd29-4a18-ec7e-03991554b74d",
        "colab": {
          "base_uri": "https://localhost:8080/",
          "height": 295
        }
      },
      "execution_count": 25,
      "outputs": [
        {
          "output_type": "display_data",
          "data": {
            "text/plain": [
              "<Figure size 432x288 with 1 Axes>"
            ],
            "image/png": "[encoded data removed]"
          },
          "metadata": {
            "needs_background": "light"
          }
        }
      ]
    },
    {
      "cell_type": "markdown",
      "source": [
        "As also seen on this plot, there is also a constant rise on the amount of individuals fully vaccinated with boosters in our country. "
      ],
      "metadata": {
        "id": "U8PPYSn6mEZk"
      }
    },
    {
      "cell_type": "code",
      "source": [
        "totalvaxx = np.array(ph_ver['total_vaccinations'])\n",
        "\n",
        "plt.ticklabel_format(style='plain')\n",
        "plt.plot(totalvaxx, c='#063c72')\n",
        "plt.title(\"TOTAL VACCINATIONS IN THE PHILIPPINES\")\n",
        "plt.xlabel(\"Days\")\n",
        "plt.ylabel(\"Number of People Vaccinated\")\n",
        "\n",
        "plt.show()"
      ],
      "metadata": {
        "id": "lDhX3teiLvC5",
        "outputId": "ab1f55f5-188a-438f-a018-d96331cf3fa0",
        "colab": {
          "base_uri": "https://localhost:8080/",
          "height": 295
        }
      },
      "execution_count": 26,
      "outputs": [
        {
          "output_type": "display_data",
          "data": {
            "text/plain": [
              "<Figure size 432x288 with 1 Axes>"
            ],
            "image/png": "[encoded data removed]"
          },
          "metadata": {
            "needs_background": "light"
          }
        }
      ]
    },
    {
      "cell_type": "markdown",
      "source": [
        "Lastly, there is also a constant rise on the amount of vaccinations in our country. "
      ],
      "metadata": {
        "id": "jl8VxIormHxL"
      }
    }
  ]
}