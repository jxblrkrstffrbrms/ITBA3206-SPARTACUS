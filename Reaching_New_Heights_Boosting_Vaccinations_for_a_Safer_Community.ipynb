{
  "nbformat": 4,
  "nbformat_minor": 0,
  "metadata": {
    "colab": {
      "name": "Reaching New Heights : Boosting Vaccinations for a Safer Community",
      "provenance": [],
      "include_colab_link": true
    },
    "kernelspec": {
      "name": "python3",
      "display_name": "Python 3"
    },
    "language_info": {
      "name": "python"
    }
  },
  "cells": [
    {
      "cell_type": "markdown",
      "metadata": {
        "id": "view-in-github",
        "colab_type": "text"
      },
      "source": [
        "<a href=\"https://colab.research.google.com/github/jxblrkrstffrbrms/ITBA3206-SPARTACUS/blob/main/Reaching_New_Heights_Boosting_Vaccinations_for_a_Safer_Community.ipynb\" target=\"_parent\"><img src=\"https://colab.research.google.com/assets/colab-badge.svg\" alt=\"Open In Colab\"/></a>"
      ]
    },
    {
      "cell_type": "markdown",
      "source": [
        "Importing all libraries needed in the analysis."
      ],
      "metadata": {
        "id": "LzKPZ-RUi13e"
      }
    },
    {
      "cell_type": "code",
      "source": [
        "import numpy as np\n",
        "import pandas as pd"
      ],
      "metadata": {
        "id": "QwsLYIEUjtLW"
      },
      "execution_count": 3,
      "outputs": []
    },
    {
      "cell_type": "markdown",
      "source": [
        "Uploading the **.csv** file"
      ],
      "metadata": {
        "id": "tv2BMjA4YcTj"
      }
    },
    {
      "cell_type": "code",
      "source": [
        "url = 'https://raw.githubusercontent.com/jxblrkrstffrbrms/ITBA3206-SPARTACUS/main/dataset_ph.csv'"
      ],
      "metadata": {
        "id": "EJmoiiIYYgal"
      },
      "execution_count": 1,
      "outputs": []
    },
    {
      "cell_type": "markdown",
      "source": [
        "Reading and printing the .csv file"
      ],
      "metadata": {
        "id": "KLCD6VmpboVx"
      }
    },
    {
      "cell_type": "code",
      "source": [
        "df= pd.read_csv(url)\n",
        "print(df)"
      ],
      "metadata": {
        "id": "fTL-Cfy_btLc",
        "outputId": "22ce67bf-d2ef-4da4-fa96-02f6747cbb95",
        "colab": {
          "base_uri": "https://localhost:8080/"
        }
      },
      "execution_count": 4,
      "outputs": [
        {
          "output_type": "stream",
          "name": "stdout",
          "text": [
            "     continent     location        date  total_cases  new_cases  \\\n",
            "0         Asia  Philippines  30/01/2020            1        1.0   \n",
            "1         Asia  Philippines  31/01/2020            1        0.0   \n",
            "2         Asia  Philippines  01/02/2020            1        0.0   \n",
            "3         Asia  Philippines  02/02/2020            2        1.0   \n",
            "4         Asia  Philippines  03/02/2020            2        0.0   \n",
            "...        ...          ...         ...          ...        ...   \n",
            "1663      Asia        World  28/04/2022     10638632     7116.0   \n",
            "1664      Asia        World  29/04/2022     10644700     6068.0   \n",
            "1665      Asia        World  30/04/2022     10649809     5109.0   \n",
            "1666      Asia        World  01/05/2022     10653526     3717.0   \n",
            "1667      Asia        World  02/05/2022     10656649     3123.0   \n",
            "\n",
            "      new_cases_smoothed  total_deaths  new_deaths  new_deaths_smoothed  \\\n",
            "0                    NaN           NaN         NaN                  NaN   \n",
            "1                    NaN           NaN         NaN                  NaN   \n",
            "2                    NaN           NaN         NaN                  NaN   \n",
            "3                    NaN           1.0         1.0                  NaN   \n",
            "4                    NaN           1.0         0.0                  NaN   \n",
            "...                  ...           ...         ...                  ...   \n",
            "1663           15066.857       43037.0         3.0                6.571   \n",
            "1664           14339.429       43038.0         1.0                5.714   \n",
            "1665           13588.571       43041.0         3.0                5.286   \n",
            "1666           12860.571       43042.0         1.0                4.143   \n",
            "1667           12125.286       43044.0         2.0                3.286   \n",
            "\n",
            "      total_cases_per_million  ...  female_smokers  male_smokers  \\\n",
            "0                       0.009  ...             7.8          40.8   \n",
            "1                       0.009  ...             7.8          40.8   \n",
            "2                       0.009  ...             7.8          40.8   \n",
            "3                       0.018  ...             7.8          40.8   \n",
            "4                       0.018  ...             7.8          40.8   \n",
            "...                       ...  ...             ...           ...   \n",
            "1663               108370.774  ...             1.0          45.9   \n",
            "1664               108432.586  ...             1.0          45.9   \n",
            "1665               108484.629  ...             1.0          45.9   \n",
            "1666               108522.492  ...             1.0          45.9   \n",
            "1667               108554.305  ...             1.0          45.9   \n",
            "\n",
            "      handwashing_facilities  hospital_beds_per_thousand  life_expectancy  \\\n",
            "0                     78.463                         1.0            71.23   \n",
            "1                     78.463                         1.0            71.23   \n",
            "2                     78.463                         1.0            71.23   \n",
            "3                     78.463                         1.0            71.23   \n",
            "4                     78.463                         1.0            71.23   \n",
            "...                      ...                         ...              ...   \n",
            "1663                  85.847                         2.6            75.40   \n",
            "1664                  85.847                         2.6            75.40   \n",
            "1665                  85.847                         2.6            75.40   \n",
            "1666                  85.847                         2.6            75.40   \n",
            "1667                  85.847                         2.6            75.40   \n",
            "\n",
            "      human_development_index  excess_mortality_cumulative_absolute  \\\n",
            "0                       0.718                                   NaN   \n",
            "1                       0.718                               -1699.0   \n",
            "2                       0.718                                   NaN   \n",
            "3                       0.718                                   NaN   \n",
            "4                       0.718                                   NaN   \n",
            "...                       ...                                   ...   \n",
            "1663                    0.704                                   NaN   \n",
            "1664                    0.704                                   NaN   \n",
            "1665                    0.704                                   NaN   \n",
            "1666                    0.704                                   NaN   \n",
            "1667                    0.704                                   NaN   \n",
            "\n",
            "      excess_mortality_cumulative  excess_mortality  \\\n",
            "0                             NaN               NaN   \n",
            "1                           -3.08             -3.08   \n",
            "2                             NaN               NaN   \n",
            "3                             NaN               NaN   \n",
            "4                             NaN               NaN   \n",
            "...                           ...               ...   \n",
            "1663                          NaN               NaN   \n",
            "1664                          NaN               NaN   \n",
            "1665                          NaN               NaN   \n",
            "1666                          NaN               NaN   \n",
            "1667                          NaN               NaN   \n",
            "\n",
            "      excess_mortality_cumulative_per_million  \n",
            "0                                         NaN  \n",
            "1                                   -15.29984  \n",
            "2                                         NaN  \n",
            "3                                         NaN  \n",
            "4                                         NaN  \n",
            "...                                       ...  \n",
            "1663                                      NaN  \n",
            "1664                                      NaN  \n",
            "1665                                      NaN  \n",
            "1666                                      NaN  \n",
            "1667                                      NaN  \n",
            "\n",
            "[1668 rows x 66 columns]\n"
          ]
        }
      ]
    },
    {
      "cell_type": "markdown",
      "source": [
        "The dataset our team got contains all the data regarding COVID-19 around the world.\n",
        "\n",
        "Since what we'll need for the analysis is only for our country which is the Philippines, we need to delete unnecessary rows and columns from our dataset. Also, cleaning the dataset is essential for us to have accurate results."
      ],
      "metadata": {
        "id": "O2OwtkX9svGp"
      }
    }
  ]
}